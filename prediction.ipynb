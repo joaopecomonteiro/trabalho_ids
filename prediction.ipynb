{
 "cells": [
  {
   "cell_type": "code",
   "id": "initial_id",
   "metadata": {
    "collapsed": true,
    "ExecuteTime": {
     "end_time": "2024-11-19T16:52:31.612878Z",
     "start_time": "2024-11-19T16:52:31.610757Z"
    }
   },
   "source": [
    "import pandas as pd\n",
    "import numpy as np\n",
    "import matplotlib.pyplot as plt\n",
    "import seaborn as sns"
   ],
   "outputs": [],
   "execution_count": 19
  },
  {
   "metadata": {
    "ExecuteTime": {
     "end_time": "2024-11-19T17:00:01.300469Z",
     "start_time": "2024-11-19T17:00:01.210158Z"
    }
   },
   "cell_type": "code",
   "source": [
    "data = pd.read_csv('customer.csv')\n",
    "data.drop(\"Unnamed: 0\", axis=1, inplace=True)\n",
    "data.drop(\"custid\", axis=1, inplace=True)"
   ],
   "id": "386a366a209f0ebe",
   "outputs": [],
   "execution_count": 29
  },
  {
   "metadata": {
    "ExecuteTime": {
     "end_time": "2024-11-19T17:00:02.094865Z",
     "start_time": "2024-11-19T17:00:02.075067Z"
    }
   },
   "cell_type": "code",
   "source": [
    "patients = data.shape[0]\n",
    "features = data.shape[1] - 1 \n",
    "\n",
    "not_insured = len(data[data.health_ins == False])\n",
    "insured = len(data[data.health_ins == True])\n",
    "val = [not_insured, insured]\n",
    "\n",
    "percentage_not_insured = (float(not_insured)/patients) * 100\n",
    "percentage_insured = (float(insured)/patients) * 100\n",
    "\n",
    "print(f'Total of patients:{patients}')\n",
    "print(f'Total of columns:{features}')\n",
    "print(f'Total of patients not insured:{percentage_not_insured} ({percentage_not_insured:.2f}%)')\n",
    "print(f'Total of patients insured:{percentage_insured} ({percentage_insured:.2f}%)')"
   ],
   "id": "aa0a9a480fce5cb1",
   "outputs": [
    {
     "name": "stdout",
     "output_type": "stream",
     "text": [
      "Total of patients:72458\n",
      "Total of columns:12\n",
      "Total of patients not insured:9.529658560821442 (9.53%)\n",
      "Total of patients insured:90.47034143917855 (90.47%)\n"
     ]
    }
   ],
   "execution_count": 30
  },
  {
   "metadata": {
    "ExecuteTime": {
     "end_time": "2024-11-19T17:00:04.031541Z",
     "start_time": "2024-11-19T17:00:04.024653Z"
    }
   },
   "cell_type": "code",
   "source": "data['is_employed'] = data['is_employed'].fillna(False)",
   "id": "fb52c25b51b91d36",
   "outputs": [
    {
     "name": "stderr",
     "output_type": "stream",
     "text": [
      "/tmp/ipykernel_50431/3149043678.py:1: FutureWarning: Downcasting object dtype arrays on .fillna, .ffill, .bfill is deprecated and will change in a future version. Call result.infer_objects(copy=False) instead. To opt-in to the future behavior, set `pd.set_option('future.no_silent_downcasting', True)`\n",
      "  data['is_employed'] = data['is_employed'].fillna(False)\n"
     ]
    }
   ],
   "execution_count": 31
  },
  {
   "metadata": {
    "ExecuteTime": {
     "end_time": "2024-11-19T17:00:09.403225Z",
     "start_time": "2024-11-19T17:00:09.401222Z"
    }
   },
   "cell_type": "code",
   "source": "",
   "id": "9d67bba228270dab",
   "outputs": [],
   "execution_count": null
  },
  {
   "metadata": {
    "ExecuteTime": {
     "end_time": "2024-11-19T17:02:09.308055Z",
     "start_time": "2024-11-19T17:02:09.288995Z"
    }
   },
   "cell_type": "code",
   "source": "data.dropna(inplace=True)",
   "id": "84064c84147c9559",
   "outputs": [],
   "execution_count": 35
  },
  {
   "metadata": {
    "ExecuteTime": {
     "end_time": "2024-11-19T17:02:11.011381Z",
     "start_time": "2024-11-19T17:02:11.008323Z"
    }
   },
   "cell_type": "code",
   "source": "data['age'] = data['age'].replace(0, np.nan)",
   "id": "33612485fcd59363",
   "outputs": [],
   "execution_count": 36
  },
  {
   "metadata": {
    "ExecuteTime": {
     "end_time": "2024-11-19T17:02:12.301179Z",
     "start_time": "2024-11-19T17:02:12.296727Z"
    }
   },
   "cell_type": "code",
   "source": "len(data)",
   "id": "8f0c64aff994727b",
   "outputs": [
    {
     "data": {
      "text/plain": [
       "70771"
      ]
     },
     "execution_count": 37,
     "metadata": {},
     "output_type": "execute_result"
    }
   ],
   "execution_count": 37
  },
  {
   "metadata": {
    "ExecuteTime": {
     "end_time": "2024-11-19T17:02:14.324024Z",
     "start_time": "2024-11-19T17:02:14.298122Z"
    }
   },
   "cell_type": "code",
   "source": "data_encoded = pd.get_dummies(data, drop_first=True)",
   "id": "21b4e421bd486dc4",
   "outputs": [],
   "execution_count": 38
  },
  {
   "metadata": {
    "ExecuteTime": {
     "end_time": "2024-11-15T11:45:39.920753Z",
     "start_time": "2024-11-15T11:45:39.898462Z"
    }
   },
   "cell_type": "code",
   "source": [
    "from scipy.stats import zscore\n",
    "\n",
    "numerical_cols = data.select_dtypes(include=[np.number])\n",
    "z_scores = numerical_cols.apply(zscore, nan_policy='omit')\n",
    "z_scores_df = pd.DataFrame(z_scores, columns=numerical_cols.columns)"
   ],
   "id": "605bbe7251156aa3",
   "outputs": [],
   "execution_count": 9
  },
  {
   "metadata": {
    "ExecuteTime": {
     "end_time": "2024-11-15T11:45:41.562272Z",
     "start_time": "2024-11-15T11:45:41.147196Z"
    }
   },
   "cell_type": "code",
   "source": [
    "from sklearn.impute import KNNImputer\n",
    "\n",
    "imputer = KNNImputer(n_neighbors=5)\n",
    "\n",
    "imputed_data = imputer.fit_transform(z_scores_df)\n",
    "\n",
    "# Step 5: Replace the original 'age' column with the imputed values\n",
    "z_scores_df['age'] = imputed_data[:, 4]"
   ],
   "id": "4c02d2b15e5b3818",
   "outputs": [],
   "execution_count": 10
  },
  {
   "metadata": {
    "ExecuteTime": {
     "end_time": "2024-11-15T11:45:45.048106Z",
     "start_time": "2024-11-15T11:45:45.043172Z"
    }
   },
   "cell_type": "code",
   "source": [
    "data['income'] = z_scores_df[\"income\"]\n",
    "data['num_vehicles'] = z_scores_df[\"num_vehicles\"]\n",
    "data['age'] = z_scores_df[\"age\"]\n",
    "data['code_column'] = z_scores_df[\"code_column\"]\n",
    "data['gas_usage'] = z_scores_df[\"gas_usage\"]\n",
    "data['rooms'] = z_scores_df[\"rooms\"]"
   ],
   "id": "1755e54b8a119737",
   "outputs": [],
   "execution_count": 11
  },
  {
   "metadata": {
    "ExecuteTime": {
     "end_time": "2024-11-15T11:46:34.260304Z",
     "start_time": "2024-11-15T11:46:34.225006Z"
    }
   },
   "cell_type": "code",
   "source": "data_encoded = pd.get_dummies(data, drop_first=True)",
   "id": "1911e9b52f57076d",
   "outputs": [],
   "execution_count": 14
  },
  {
   "metadata": {
    "ExecuteTime": {
     "end_time": "2024-11-15T11:46:35.129961Z",
     "start_time": "2024-11-15T11:46:35.115818Z"
    }
   },
   "cell_type": "code",
   "source": [
    "patients = data_encoded.shape[0]\n",
    "features = data_encoded.shape[1] - 1 \n",
    "\n",
    "not_insured = len(data_encoded[data_encoded.health_ins == False])\n",
    "insured = len(data[data_encoded.health_ins == True])\n",
    "val = [not_insured, insured]\n",
    "\n",
    "percentage_not_insured = (float(not_insured)/patients) * 100\n",
    "percentage_insured = (float(insured)/patients) * 100\n",
    "\n",
    "print(f'Total of patients:{patients}')\n",
    "print(f'Total of columns:{features}')\n",
    "print(f'Total of patients not insured:{percentage_not_insured}({percentage_not_insured:.2f}%)')\n",
    "print(f'Total of patients insured:{percentage_insured}({percentage_insured:.2f}%)')"
   ],
   "id": "fee055c2521cdd92",
   "outputs": [
    {
     "name": "stdout",
     "output_type": "stream",
     "text": [
      "Total of patients:70771\n",
      "Total of columns:65\n",
      "Total of patients not insured:9.089881448615959(9.09%)\n",
      "Total of patients insured:90.91011855138404(90.91%)\n"
     ]
    }
   ],
   "execution_count": 15
  },
  {
   "metadata": {
    "ExecuteTime": {
     "end_time": "2024-11-15T11:46:36.488814Z",
     "start_time": "2024-11-15T11:46:36.486700Z"
    }
   },
   "cell_type": "code",
   "source": [
    "from sklearn.model_selection import train_test_split\n",
    "from sklearn.metrics import accuracy_score, f1_score"
   ],
   "id": "2d04badab0201272",
   "outputs": [],
   "execution_count": 16
  },
  {
   "metadata": {
    "ExecuteTime": {
     "end_time": "2024-11-15T11:46:38.503368Z",
     "start_time": "2024-11-15T11:46:38.492853Z"
    }
   },
   "cell_type": "code",
   "source": [
    "X = data_encoded.drop(columns=['health_ins'])\n",
    "y = data_encoded['health_ins']"
   ],
   "id": "eea06e63436fb9f2",
   "outputs": [],
   "execution_count": 17
  },
  {
   "metadata": {
    "ExecuteTime": {
     "end_time": "2024-11-15T11:46:59.234843Z",
     "start_time": "2024-11-15T11:46:59.231164Z"
    }
   },
   "cell_type": "code",
   "source": [
    "from sklearn.metrics import accuracy_score, precision_score, recall_score, f1_score, confusion_matrix, roc_auc_score\n",
    "\n",
    "def evaluate_model(model, X_test, y_test):\n",
    "    # Predict the labels\n",
    "    y_pred = model.predict(X_test)\n",
    "    \n",
    "    # Dictionary to store metrics\n",
    "    metrics = {}\n",
    "    \n",
    "    # Accuracy\n",
    "    metrics['accuracy'] = accuracy_score(y_test, y_pred)\n",
    "    \n",
    "    # Precision\n",
    "    metrics['precision'] = precision_score(y_test, y_pred)  # or 'macro' for multiclass\n",
    "    \n",
    "    # Recall\n",
    "    metrics['recall'] = recall_score(y_test, y_pred)  # or 'macro'\n",
    "    \n",
    "    # F1 Score\n",
    "    metrics['f1_score'] = f1_score(y_test, y_pred)  # or 'macro'\n",
    "    \n",
    "    # Confusion Matrix\n",
    "    conf_matrix = confusion_matrix(y_test, y_pred)\n",
    "    \n",
    "    [[tn, fp], [fn, tp]] = conf_matrix\n",
    "    metrics['specifity'] = tn / (tn+fp)\n",
    "    \n",
    "    \n",
    "    metrics['confusion_matrix'] = conf_matrix\n",
    "    # ROC AUC Score (for binary or multiclass)\n",
    "    #if hasattr(model, \"predict_proba\"):\n",
    "    #    y_prob = model.predict_proba(X_test)\n",
    "    #    # Check if it's binary classification, then select only the positive class probabilities\n",
    "    #    if y_prob.shape[1] == 2:\n",
    "    #        y_prob = y_prob[:, 1]  # Use only the probability for the positive class\n",
    "    #    metrics['roc_auc'] = roc_auc_score(y_test, y_prob, multi_class=\"ovr\" if len(np.unique(y_test)) > 2 else None)\n",
    "    #elif hasattr(model, \"decision_function\"):\n",
    "    #    y_score = model.decision_function(X_test)\n",
    "    #    metrics['roc_auc'] = roc_auc_score(y_test, y_score, multi_class=\"ovr\" if len(np.unique(y_test)) > 2 else None)\n",
    "    \n",
    "    \n",
    "    return metrics"
   ],
   "id": "2fdd9d6d1da32f22",
   "outputs": [],
   "execution_count": 21
  },
  {
   "metadata": {},
   "cell_type": "markdown",
   "source": "# Training without smote",
   "id": "ee96f529532153d8"
  },
  {
   "metadata": {
    "ExecuteTime": {
     "end_time": "2024-11-15T11:47:09.082101Z",
     "start_time": "2024-11-15T11:47:09.068760Z"
    }
   },
   "cell_type": "code",
   "source": "X_train, X_test, y_train, y_test = train_test_split(X, y, test_size=0.2, random_state=42)",
   "id": "1375ab9a958e2086",
   "outputs": [],
   "execution_count": 22
  },
  {
   "metadata": {},
   "cell_type": "markdown",
   "source": "## Random Forest",
   "id": "b66b15bf16ab5ddc"
  },
  {
   "metadata": {
    "ExecuteTime": {
     "end_time": "2024-11-15T11:47:15.405042Z",
     "start_time": "2024-11-15T11:47:10.390245Z"
    }
   },
   "cell_type": "code",
   "source": [
    "from sklearn.ensemble import RandomForestClassifier\n",
    "\n",
    "rfc_model = RandomForestClassifier(n_estimators=100)  # You can adjust n_estimators\n",
    "rfc_model.fit(X_train, y_train)\n",
    "\n",
    "rfc_y_pred = rfc_model.predict(X_test)\n",
    "\n",
    "rfc_metrics = evaluate_model(rfc_model, X_test, y_test)\n",
    "\n",
    "for metric, value in rfc_metrics.items():\n",
    "    print(f\"{metric}: {value}\")"
   ],
   "id": "e6fe212b54ed23c9",
   "outputs": [
    {
     "name": "stdout",
     "output_type": "stream",
     "text": [
      "accuracy: 0.9027905333804309\n",
      "precision: 0.9124460431654676\n",
      "recall: 0.9876187509733686\n",
      "f1_score: 0.9485453593598085\n",
      "specifity: 0.07311500380807312\n",
      "confusion_matrix: [[   96  1217]\n",
      " [  159 12683]]\n"
     ]
    }
   ],
   "execution_count": 23
  },
  {
   "metadata": {
    "ExecuteTime": {
     "end_time": "2024-11-15T11:47:20.142933Z",
     "start_time": "2024-11-15T11:47:20.022713Z"
    }
   },
   "cell_type": "code",
   "source": [
    "rfc_df = pd.DataFrame({'real': y_test, 'prevision': rfc_y_pred})\n",
    "\n",
    "df = pd.DataFrame(rfc_df, columns=['real', 'prevision'])\n",
    "\n",
    "cf_matrix = pd.crosstab(df['real'], df['prevision'], rownames=['real'], colnames=['prevision'])\n",
    "sns.heatmap(cf_matrix, annot=True, cmap='Blues', fmt=\"d\")"
   ],
   "id": "488747c6a12b2dbc",
   "outputs": [
    {
     "data": {
      "text/plain": [
       "<Axes: xlabel='prevision', ylabel='real'>"
      ]
     },
     "execution_count": 24,
     "metadata": {},
     "output_type": "execute_result"
    },
    {
     "data": {
      "text/plain": [
       "<Figure size 640x480 with 2 Axes>"
      ],
      "image/png": "[encoded data removed]"
     },
     "metadata": {},
     "output_type": "display_data"
    }
   ],
   "execution_count": 24
  },
  {
   "metadata": {
    "ExecuteTime": {
     "end_time": "2024-11-15T11:47:22.684448Z",
     "start_time": "2024-11-15T11:47:22.559256Z"
    }
   },
   "cell_type": "code",
   "source": [
    "importance = rfc_model.feature_importances_\n",
    "\n",
    "features = X.columns\n",
    "\n",
    "\n",
    "best_feature = \"\"\n",
    "best_score = 0\n",
    "\n",
    "pair_features_scores = dict()\n",
    "\n",
    "for i,v in enumerate(importance):\n",
    " #print(f'Feature: {features[i]}, Score: {v}')\n",
    " pair_features_scores[features[i]] = v\n",
    " if v > best_score:\n",
    "     best_feature = features[i]\n",
    "     best_score = v\n",
    "\n",
    "\n",
    "plt.bar([x for x in range(len(importance))], importance)\n",
    "plt.show()"
   ],
   "id": "ab8795e33a1e31fe",
   "outputs": [
    {
     "data": {
      "text/plain": [
       "<Figure size 640x480 with 1 Axes>"
      ],
      "image/png": "[encoded data removed]"
     },
     "metadata": {},
     "output_type": "display_data"
    }
   ],
   "execution_count": 25
  },
  {
   "metadata": {
    "ExecuteTime": {
     "end_time": "2024-11-15T11:47:26.750203Z",
     "start_time": "2024-11-15T11:47:26.743468Z"
    }
   },
   "cell_type": "code",
   "source": [
    "top_five = sorted(pair_features_scores.items(), key=lambda item: item[1], reverse=True)[:5]\n",
    "top_five_features = dict(top_five)\n",
    "print(top_five_features)"
   ],
   "id": "d8f33daaa9afeede",
   "outputs": [
    {
     "name": "stdout",
     "output_type": "stream",
     "text": [
      "{'income': np.float64(0.2613462260231127), 'rooms': np.float64(0.12692293189998594), 'num_vehicles': np.float64(0.09591946640980778), 'gas_usage': np.float64(0.07516484942339327), 'age': np.float64(0.07473706176864145)}\n"
     ]
    }
   ],
   "execution_count": 27
  },
  {
   "metadata": {},
   "cell_type": "markdown",
   "source": "## KNN\n",
   "id": "74db8b3b7fb29d3c"
  },
  {
   "metadata": {
    "ExecuteTime": {
     "end_time": "2024-11-15T11:47:32.399457Z",
     "start_time": "2024-11-15T11:47:28.700122Z"
    }
   },
   "cell_type": "code",
   "source": [
    "from sklearn.neighbors import KNeighborsClassifier\n",
    "\n",
    "knn_model = KNeighborsClassifier()  # You can adjust n_estimators\n",
    "knn_model.fit(X_train, y_train)\n",
    "\n",
    "knn_y_pred = knn_model.predict(X_test)\n",
    "\n",
    "knn_metrics = evaluate_model(knn_model, X_test, y_test)\n",
    "\n",
    "for metric, value in knn_metrics.items():\n",
    "    print(f\"{metric}: {value}\")"
   ],
   "id": "7e9ee01f52e0cfd2",
   "outputs": [
    {
     "name": "stdout",
     "output_type": "stream",
     "text": [
      "accuracy: 0.8998940303779583\n",
      "precision: 0.9114744651732335\n",
      "recall: 0.9853605357420963\n",
      "f1_score: 0.946978484565014\n",
      "specifity: 0.06397562833206398\n",
      "confusion_matrix: [[   84  1229]\n",
      " [  188 12654]]\n"
     ]
    }
   ],
   "execution_count": 28
  },
  {
   "metadata": {
    "ExecuteTime": {
     "end_time": "2024-11-15T11:47:34.504004Z",
     "start_time": "2024-11-15T11:47:34.389843Z"
    }
   },
   "cell_type": "code",
   "source": [
    "knn_df = pd.DataFrame({'real': y_test, 'prevision': knn_y_pred})\n",
    "\n",
    "df = pd.DataFrame(knn_df, columns=['real', 'prevision'])\n",
    "\n",
    "cf_matrix = pd.crosstab(df['real'], df['prevision'], rownames=['real'], colnames=['prevision'])\n",
    "sns.heatmap(cf_matrix, annot=True, cmap='Blues', fmt=\"d\")"
   ],
   "id": "75d3e421fc9b382d",
   "outputs": [
    {
     "data": {
      "text/plain": [
       "<Axes: xlabel='prevision', ylabel='real'>"
      ]
     },
     "execution_count": 29,
     "metadata": {},
     "output_type": "execute_result"
    },
    {
     "data": {
      "text/plain": [
       "<Figure size 640x480 with 2 Axes>"
      ],
      "image/png": "[encoded data removed]"
     },
     "metadata": {},
     "output_type": "display_data"
    }
   ],
   "execution_count": 29
  },
  {
   "metadata": {
    "ExecuteTime": {
     "end_time": "2024-11-15T11:49:35.137227Z",
     "start_time": "2024-11-15T11:47:50.024855Z"
    }
   },
   "cell_type": "code",
   "source": [
    "from sklearn.inspection import permutation_importance\n",
    "\n",
    "results = permutation_importance(knn_model, X, y, scoring='accuracy')\n",
    "# get importance\n",
    "importance = results.importances_mean\n",
    "# summarize feature importance\n",
    "for i,v in enumerate(importance):\n",
    " print('Feature: %0d, Score: %.5f' % (i,v))\n",
    "# plot feature importance\n",
    "plt.bar([x for x in range(len(importance))], importance)\n",
    "plt.show()"
   ],
   "id": "a355626f3d6dd4fd",
   "outputs": [
    {
     "ename": "KeyboardInterrupt",
     "evalue": "",
     "output_type": "error",
     "traceback": [
      "\u001B[0;31m---------------------------------------------------------------------------\u001B[0m",
      "\u001B[0;31mKeyboardInterrupt\u001B[0m                         Traceback (most recent call last)",
      "Cell \u001B[0;32mIn[30], line 3\u001B[0m\n\u001B[1;32m      1\u001B[0m \u001B[38;5;28;01mfrom\u001B[39;00m \u001B[38;5;21;01msklearn\u001B[39;00m\u001B[38;5;21;01m.\u001B[39;00m\u001B[38;5;21;01minspection\u001B[39;00m \u001B[38;5;28;01mimport\u001B[39;00m permutation_importance\n\u001B[0;32m----> 3\u001B[0m results \u001B[38;5;241m=\u001B[39m \u001B[43mpermutation_importance\u001B[49m\u001B[43m(\u001B[49m\u001B[43mknn_model\u001B[49m\u001B[43m,\u001B[49m\u001B[43m \u001B[49m\u001B[43mX\u001B[49m\u001B[43m,\u001B[49m\u001B[43m \u001B[49m\u001B[43my\u001B[49m\u001B[43m,\u001B[49m\u001B[43m \u001B[49m\u001B[43mscoring\u001B[49m\u001B[38;5;241;43m=\u001B[39;49m\u001B[38;5;124;43m'\u001B[39;49m\u001B[38;5;124;43maccuracy\u001B[39;49m\u001B[38;5;124;43m'\u001B[39;49m\u001B[43m)\u001B[49m\n\u001B[1;32m      4\u001B[0m \u001B[38;5;66;03m# get importance\u001B[39;00m\n\u001B[1;32m      5\u001B[0m importance \u001B[38;5;241m=\u001B[39m results\u001B[38;5;241m.\u001B[39mimportances_mean\n",
      "File \u001B[0;32m~/Desktop/trabalho_ids/env_trab_ids/lib/python3.10/site-packages/sklearn/utils/_param_validation.py:213\u001B[0m, in \u001B[0;36mvalidate_params.<locals>.decorator.<locals>.wrapper\u001B[0;34m(*args, **kwargs)\u001B[0m\n\u001B[1;32m    207\u001B[0m \u001B[38;5;28;01mtry\u001B[39;00m:\n\u001B[1;32m    208\u001B[0m     \u001B[38;5;28;01mwith\u001B[39;00m config_context(\n\u001B[1;32m    209\u001B[0m         skip_parameter_validation\u001B[38;5;241m=\u001B[39m(\n\u001B[1;32m    210\u001B[0m             prefer_skip_nested_validation \u001B[38;5;129;01mor\u001B[39;00m global_skip_validation\n\u001B[1;32m    211\u001B[0m         )\n\u001B[1;32m    212\u001B[0m     ):\n\u001B[0;32m--> 213\u001B[0m         \u001B[38;5;28;01mreturn\u001B[39;00m \u001B[43mfunc\u001B[49m\u001B[43m(\u001B[49m\u001B[38;5;241;43m*\u001B[39;49m\u001B[43margs\u001B[49m\u001B[43m,\u001B[49m\u001B[43m \u001B[49m\u001B[38;5;241;43m*\u001B[39;49m\u001B[38;5;241;43m*\u001B[39;49m\u001B[43mkwargs\u001B[49m\u001B[43m)\u001B[49m\n\u001B[1;32m    214\u001B[0m \u001B[38;5;28;01mexcept\u001B[39;00m InvalidParameterError \u001B[38;5;28;01mas\u001B[39;00m e:\n\u001B[1;32m    215\u001B[0m     \u001B[38;5;66;03m# When the function is just a wrapper around an estimator, we allow\u001B[39;00m\n\u001B[1;32m    216\u001B[0m     \u001B[38;5;66;03m# the function to delegate validation to the estimator, but we replace\u001B[39;00m\n\u001B[1;32m    217\u001B[0m     \u001B[38;5;66;03m# the name of the estimator by the name of the function in the error\u001B[39;00m\n\u001B[1;32m    218\u001B[0m     \u001B[38;5;66;03m# message to avoid confusion.\u001B[39;00m\n\u001B[1;32m    219\u001B[0m     msg \u001B[38;5;241m=\u001B[39m re\u001B[38;5;241m.\u001B[39msub(\n\u001B[1;32m    220\u001B[0m         \u001B[38;5;124mr\u001B[39m\u001B[38;5;124m\"\u001B[39m\u001B[38;5;124mparameter of \u001B[39m\u001B[38;5;124m\\\u001B[39m\u001B[38;5;124mw+ must be\u001B[39m\u001B[38;5;124m\"\u001B[39m,\n\u001B[1;32m    221\u001B[0m         \u001B[38;5;124mf\u001B[39m\u001B[38;5;124m\"\u001B[39m\u001B[38;5;124mparameter of \u001B[39m\u001B[38;5;132;01m{\u001B[39;00mfunc\u001B[38;5;241m.\u001B[39m\u001B[38;5;18m__qualname__\u001B[39m\u001B[38;5;132;01m}\u001B[39;00m\u001B[38;5;124m must be\u001B[39m\u001B[38;5;124m\"\u001B[39m,\n\u001B[1;32m    222\u001B[0m         \u001B[38;5;28mstr\u001B[39m(e),\n\u001B[1;32m    223\u001B[0m     )\n",
      "File \u001B[0;32m~/Desktop/trabalho_ids/env_trab_ids/lib/python3.10/site-packages/sklearn/inspection/_permutation_importance.py:284\u001B[0m, in \u001B[0;36mpermutation_importance\u001B[0;34m(estimator, X, y, scoring, n_repeats, n_jobs, random_state, sample_weight, max_samples)\u001B[0m\n\u001B[1;32m    281\u001B[0m scorer \u001B[38;5;241m=\u001B[39m check_scoring(estimator, scoring\u001B[38;5;241m=\u001B[39mscoring)\n\u001B[1;32m    282\u001B[0m baseline_score \u001B[38;5;241m=\u001B[39m _weights_scorer(scorer, estimator, X, y, sample_weight)\n\u001B[0;32m--> 284\u001B[0m scores \u001B[38;5;241m=\u001B[39m \u001B[43mParallel\u001B[49m\u001B[43m(\u001B[49m\u001B[43mn_jobs\u001B[49m\u001B[38;5;241;43m=\u001B[39;49m\u001B[43mn_jobs\u001B[49m\u001B[43m)\u001B[49m\u001B[43m(\u001B[49m\n\u001B[1;32m    285\u001B[0m \u001B[43m    \u001B[49m\u001B[43mdelayed\u001B[49m\u001B[43m(\u001B[49m\u001B[43m_calculate_permutation_scores\u001B[49m\u001B[43m)\u001B[49m\u001B[43m(\u001B[49m\n\u001B[1;32m    286\u001B[0m \u001B[43m        \u001B[49m\u001B[43mestimator\u001B[49m\u001B[43m,\u001B[49m\n\u001B[1;32m    287\u001B[0m \u001B[43m        \u001B[49m\u001B[43mX\u001B[49m\u001B[43m,\u001B[49m\n\u001B[1;32m    288\u001B[0m \u001B[43m        \u001B[49m\u001B[43my\u001B[49m\u001B[43m,\u001B[49m\n\u001B[1;32m    289\u001B[0m \u001B[43m        \u001B[49m\u001B[43msample_weight\u001B[49m\u001B[43m,\u001B[49m\n\u001B[1;32m    290\u001B[0m \u001B[43m        \u001B[49m\u001B[43mcol_idx\u001B[49m\u001B[43m,\u001B[49m\n\u001B[1;32m    291\u001B[0m \u001B[43m        \u001B[49m\u001B[43mrandom_seed\u001B[49m\u001B[43m,\u001B[49m\n\u001B[1;32m    292\u001B[0m \u001B[43m        \u001B[49m\u001B[43mn_repeats\u001B[49m\u001B[43m,\u001B[49m\n\u001B[1;32m    293\u001B[0m \u001B[43m        \u001B[49m\u001B[43mscorer\u001B[49m\u001B[43m,\u001B[49m\n\u001B[1;32m    294\u001B[0m \u001B[43m        \u001B[49m\u001B[43mmax_samples\u001B[49m\u001B[43m,\u001B[49m\n\u001B[1;32m    295\u001B[0m \u001B[43m    \u001B[49m\u001B[43m)\u001B[49m\n\u001B[1;32m    296\u001B[0m \u001B[43m    \u001B[49m\u001B[38;5;28;43;01mfor\u001B[39;49;00m\u001B[43m \u001B[49m\u001B[43mcol_idx\u001B[49m\u001B[43m \u001B[49m\u001B[38;5;129;43;01min\u001B[39;49;00m\u001B[43m \u001B[49m\u001B[38;5;28;43mrange\u001B[39;49m\u001B[43m(\u001B[49m\u001B[43mX\u001B[49m\u001B[38;5;241;43m.\u001B[39;49m\u001B[43mshape\u001B[49m\u001B[43m[\u001B[49m\u001B[38;5;241;43m1\u001B[39;49m\u001B[43m]\u001B[49m\u001B[43m)\u001B[49m\n\u001B[1;32m    297\u001B[0m \u001B[43m\u001B[49m\u001B[43m)\u001B[49m\n\u001B[1;32m    299\u001B[0m \u001B[38;5;28;01mif\u001B[39;00m \u001B[38;5;28misinstance\u001B[39m(baseline_score, \u001B[38;5;28mdict\u001B[39m):\n\u001B[1;32m    300\u001B[0m     \u001B[38;5;28;01mreturn\u001B[39;00m {\n\u001B[1;32m    301\u001B[0m         name: _create_importances_bunch(\n\u001B[1;32m    302\u001B[0m             baseline_score[name],\n\u001B[0;32m   (...)\u001B[0m\n\u001B[1;32m    306\u001B[0m         \u001B[38;5;28;01mfor\u001B[39;00m name \u001B[38;5;129;01min\u001B[39;00m baseline_score\n\u001B[1;32m    307\u001B[0m     }\n",
      "File \u001B[0;32m~/Desktop/trabalho_ids/env_trab_ids/lib/python3.10/site-packages/sklearn/utils/parallel.py:74\u001B[0m, in \u001B[0;36mParallel.__call__\u001B[0;34m(self, iterable)\u001B[0m\n\u001B[1;32m     69\u001B[0m config \u001B[38;5;241m=\u001B[39m get_config()\n\u001B[1;32m     70\u001B[0m iterable_with_config \u001B[38;5;241m=\u001B[39m (\n\u001B[1;32m     71\u001B[0m     (_with_config(delayed_func, config), args, kwargs)\n\u001B[1;32m     72\u001B[0m     \u001B[38;5;28;01mfor\u001B[39;00m delayed_func, args, kwargs \u001B[38;5;129;01min\u001B[39;00m iterable\n\u001B[1;32m     73\u001B[0m )\n\u001B[0;32m---> 74\u001B[0m \u001B[38;5;28;01mreturn\u001B[39;00m \u001B[38;5;28;43msuper\u001B[39;49m\u001B[43m(\u001B[49m\u001B[43m)\u001B[49m\u001B[38;5;241;43m.\u001B[39;49m\u001B[38;5;21;43m__call__\u001B[39;49m\u001B[43m(\u001B[49m\u001B[43miterable_with_config\u001B[49m\u001B[43m)\u001B[49m\n",
      "File \u001B[0;32m~/Desktop/trabalho_ids/env_trab_ids/lib/python3.10/site-packages/joblib/parallel.py:1918\u001B[0m, in \u001B[0;36mParallel.__call__\u001B[0;34m(self, iterable)\u001B[0m\n\u001B[1;32m   1916\u001B[0m     output \u001B[38;5;241m=\u001B[39m \u001B[38;5;28mself\u001B[39m\u001B[38;5;241m.\u001B[39m_get_sequential_output(iterable)\n\u001B[1;32m   1917\u001B[0m     \u001B[38;5;28mnext\u001B[39m(output)\n\u001B[0;32m-> 1918\u001B[0m     \u001B[38;5;28;01mreturn\u001B[39;00m output \u001B[38;5;28;01mif\u001B[39;00m \u001B[38;5;28mself\u001B[39m\u001B[38;5;241m.\u001B[39mreturn_generator \u001B[38;5;28;01melse\u001B[39;00m \u001B[38;5;28;43mlist\u001B[39;49m\u001B[43m(\u001B[49m\u001B[43moutput\u001B[49m\u001B[43m)\u001B[49m\n\u001B[1;32m   1920\u001B[0m \u001B[38;5;66;03m# Let's create an ID that uniquely identifies the current call. If the\u001B[39;00m\n\u001B[1;32m   1921\u001B[0m \u001B[38;5;66;03m# call is interrupted early and that the same instance is immediately\u001B[39;00m\n\u001B[1;32m   1922\u001B[0m \u001B[38;5;66;03m# re-used, this id will be used to prevent workers that were\u001B[39;00m\n\u001B[1;32m   1923\u001B[0m \u001B[38;5;66;03m# concurrently finalizing a task from the previous call to run the\u001B[39;00m\n\u001B[1;32m   1924\u001B[0m \u001B[38;5;66;03m# callback.\u001B[39;00m\n\u001B[1;32m   1925\u001B[0m \u001B[38;5;28;01mwith\u001B[39;00m \u001B[38;5;28mself\u001B[39m\u001B[38;5;241m.\u001B[39m_lock:\n",
      "File \u001B[0;32m~/Desktop/trabalho_ids/env_trab_ids/lib/python3.10/site-packages/joblib/parallel.py:1847\u001B[0m, in \u001B[0;36mParallel._get_sequential_output\u001B[0;34m(self, iterable)\u001B[0m\n\u001B[1;32m   1845\u001B[0m \u001B[38;5;28mself\u001B[39m\u001B[38;5;241m.\u001B[39mn_dispatched_batches \u001B[38;5;241m+\u001B[39m\u001B[38;5;241m=\u001B[39m \u001B[38;5;241m1\u001B[39m\n\u001B[1;32m   1846\u001B[0m \u001B[38;5;28mself\u001B[39m\u001B[38;5;241m.\u001B[39mn_dispatched_tasks \u001B[38;5;241m+\u001B[39m\u001B[38;5;241m=\u001B[39m \u001B[38;5;241m1\u001B[39m\n\u001B[0;32m-> 1847\u001B[0m res \u001B[38;5;241m=\u001B[39m \u001B[43mfunc\u001B[49m\u001B[43m(\u001B[49m\u001B[38;5;241;43m*\u001B[39;49m\u001B[43margs\u001B[49m\u001B[43m,\u001B[49m\u001B[43m \u001B[49m\u001B[38;5;241;43m*\u001B[39;49m\u001B[38;5;241;43m*\u001B[39;49m\u001B[43mkwargs\u001B[49m\u001B[43m)\u001B[49m\n\u001B[1;32m   1848\u001B[0m \u001B[38;5;28mself\u001B[39m\u001B[38;5;241m.\u001B[39mn_completed_tasks \u001B[38;5;241m+\u001B[39m\u001B[38;5;241m=\u001B[39m \u001B[38;5;241m1\u001B[39m\n\u001B[1;32m   1849\u001B[0m \u001B[38;5;28mself\u001B[39m\u001B[38;5;241m.\u001B[39mprint_progress()\n",
      "File \u001B[0;32m~/Desktop/trabalho_ids/env_trab_ids/lib/python3.10/site-packages/sklearn/utils/parallel.py:136\u001B[0m, in \u001B[0;36m_FuncWrapper.__call__\u001B[0;34m(self, *args, **kwargs)\u001B[0m\n\u001B[1;32m    134\u001B[0m     config \u001B[38;5;241m=\u001B[39m {}\n\u001B[1;32m    135\u001B[0m \u001B[38;5;28;01mwith\u001B[39;00m config_context(\u001B[38;5;241m*\u001B[39m\u001B[38;5;241m*\u001B[39mconfig):\n\u001B[0;32m--> 136\u001B[0m     \u001B[38;5;28;01mreturn\u001B[39;00m \u001B[38;5;28;43mself\u001B[39;49m\u001B[38;5;241;43m.\u001B[39;49m\u001B[43mfunction\u001B[49m\u001B[43m(\u001B[49m\u001B[38;5;241;43m*\u001B[39;49m\u001B[43margs\u001B[49m\u001B[43m,\u001B[49m\u001B[43m \u001B[49m\u001B[38;5;241;43m*\u001B[39;49m\u001B[38;5;241;43m*\u001B[39;49m\u001B[43mkwargs\u001B[49m\u001B[43m)\u001B[49m\n",
      "File \u001B[0;32m~/Desktop/trabalho_ids/env_trab_ids/lib/python3.10/site-packages/sklearn/inspection/_permutation_importance.py:72\u001B[0m, in \u001B[0;36m_calculate_permutation_scores\u001B[0;34m(estimator, X, y, sample_weight, col_idx, random_state, n_repeats, scorer, max_samples)\u001B[0m\n\u001B[1;32m     70\u001B[0m     \u001B[38;5;28;01melse\u001B[39;00m:\n\u001B[1;32m     71\u001B[0m         X_permuted[:, col_idx] \u001B[38;5;241m=\u001B[39m X_permuted[shuffling_idx, col_idx]\n\u001B[0;32m---> 72\u001B[0m     scores\u001B[38;5;241m.\u001B[39mappend(\u001B[43m_weights_scorer\u001B[49m\u001B[43m(\u001B[49m\u001B[43mscorer\u001B[49m\u001B[43m,\u001B[49m\u001B[43m \u001B[49m\u001B[43mestimator\u001B[49m\u001B[43m,\u001B[49m\u001B[43m \u001B[49m\u001B[43mX_permuted\u001B[49m\u001B[43m,\u001B[49m\u001B[43m \u001B[49m\u001B[43my\u001B[49m\u001B[43m,\u001B[49m\u001B[43m \u001B[49m\u001B[43msample_weight\u001B[49m\u001B[43m)\u001B[49m)\n\u001B[1;32m     74\u001B[0m \u001B[38;5;28;01mif\u001B[39;00m \u001B[38;5;28misinstance\u001B[39m(scores[\u001B[38;5;241m0\u001B[39m], \u001B[38;5;28mdict\u001B[39m):\n\u001B[1;32m     75\u001B[0m     scores \u001B[38;5;241m=\u001B[39m _aggregate_score_dicts(scores)\n",
      "File \u001B[0;32m~/Desktop/trabalho_ids/env_trab_ids/lib/python3.10/site-packages/sklearn/inspection/_permutation_importance.py:25\u001B[0m, in \u001B[0;36m_weights_scorer\u001B[0;34m(scorer, estimator, X, y, sample_weight)\u001B[0m\n\u001B[1;32m     23\u001B[0m \u001B[38;5;28;01mif\u001B[39;00m sample_weight \u001B[38;5;129;01mis\u001B[39;00m \u001B[38;5;129;01mnot\u001B[39;00m \u001B[38;5;28;01mNone\u001B[39;00m:\n\u001B[1;32m     24\u001B[0m     \u001B[38;5;28;01mreturn\u001B[39;00m scorer(estimator, X, y, sample_weight\u001B[38;5;241m=\u001B[39msample_weight)\n\u001B[0;32m---> 25\u001B[0m \u001B[38;5;28;01mreturn\u001B[39;00m \u001B[43mscorer\u001B[49m\u001B[43m(\u001B[49m\u001B[43mestimator\u001B[49m\u001B[43m,\u001B[49m\u001B[43m \u001B[49m\u001B[43mX\u001B[49m\u001B[43m,\u001B[49m\u001B[43m \u001B[49m\u001B[43my\u001B[49m\u001B[43m)\u001B[49m\n",
      "File \u001B[0;32m~/Desktop/trabalho_ids/env_trab_ids/lib/python3.10/site-packages/sklearn/metrics/_scorer.py:279\u001B[0m, in \u001B[0;36m_BaseScorer.__call__\u001B[0;34m(self, estimator, X, y_true, sample_weight, **kwargs)\u001B[0m\n\u001B[1;32m    276\u001B[0m \u001B[38;5;28;01mif\u001B[39;00m sample_weight \u001B[38;5;129;01mis\u001B[39;00m \u001B[38;5;129;01mnot\u001B[39;00m \u001B[38;5;28;01mNone\u001B[39;00m:\n\u001B[1;32m    277\u001B[0m     _kwargs[\u001B[38;5;124m\"\u001B[39m\u001B[38;5;124msample_weight\u001B[39m\u001B[38;5;124m\"\u001B[39m] \u001B[38;5;241m=\u001B[39m sample_weight\n\u001B[0;32m--> 279\u001B[0m \u001B[38;5;28;01mreturn\u001B[39;00m \u001B[38;5;28;43mself\u001B[39;49m\u001B[38;5;241;43m.\u001B[39;49m\u001B[43m_score\u001B[49m\u001B[43m(\u001B[49m\u001B[43mpartial\u001B[49m\u001B[43m(\u001B[49m\u001B[43m_cached_call\u001B[49m\u001B[43m,\u001B[49m\u001B[43m \u001B[49m\u001B[38;5;28;43;01mNone\u001B[39;49;00m\u001B[43m)\u001B[49m\u001B[43m,\u001B[49m\u001B[43m \u001B[49m\u001B[43mestimator\u001B[49m\u001B[43m,\u001B[49m\u001B[43m \u001B[49m\u001B[43mX\u001B[49m\u001B[43m,\u001B[49m\u001B[43m \u001B[49m\u001B[43my_true\u001B[49m\u001B[43m,\u001B[49m\u001B[43m \u001B[49m\u001B[38;5;241;43m*\u001B[39;49m\u001B[38;5;241;43m*\u001B[39;49m\u001B[43m_kwargs\u001B[49m\u001B[43m)\u001B[49m\n",
      "File \u001B[0;32m~/Desktop/trabalho_ids/env_trab_ids/lib/python3.10/site-packages/sklearn/metrics/_scorer.py:371\u001B[0m, in \u001B[0;36m_Scorer._score\u001B[0;34m(self, method_caller, estimator, X, y_true, **kwargs)\u001B[0m\n\u001B[1;32m    369\u001B[0m pos_label \u001B[38;5;241m=\u001B[39m \u001B[38;5;28;01mNone\u001B[39;00m \u001B[38;5;28;01mif\u001B[39;00m is_regressor(estimator) \u001B[38;5;28;01melse\u001B[39;00m \u001B[38;5;28mself\u001B[39m\u001B[38;5;241m.\u001B[39m_get_pos_label()\n\u001B[1;32m    370\u001B[0m response_method \u001B[38;5;241m=\u001B[39m _check_response_method(estimator, \u001B[38;5;28mself\u001B[39m\u001B[38;5;241m.\u001B[39m_response_method)\n\u001B[0;32m--> 371\u001B[0m y_pred \u001B[38;5;241m=\u001B[39m \u001B[43mmethod_caller\u001B[49m\u001B[43m(\u001B[49m\n\u001B[1;32m    372\u001B[0m \u001B[43m    \u001B[49m\u001B[43mestimator\u001B[49m\u001B[43m,\u001B[49m\u001B[43m \u001B[49m\u001B[43mresponse_method\u001B[49m\u001B[38;5;241;43m.\u001B[39;49m\u001B[38;5;18;43m__name__\u001B[39;49m\u001B[43m,\u001B[49m\u001B[43m \u001B[49m\u001B[43mX\u001B[49m\u001B[43m,\u001B[49m\u001B[43m \u001B[49m\u001B[43mpos_label\u001B[49m\u001B[38;5;241;43m=\u001B[39;49m\u001B[43mpos_label\u001B[49m\n\u001B[1;32m    373\u001B[0m \u001B[43m\u001B[49m\u001B[43m)\u001B[49m\n\u001B[1;32m    375\u001B[0m scoring_kwargs \u001B[38;5;241m=\u001B[39m {\u001B[38;5;241m*\u001B[39m\u001B[38;5;241m*\u001B[39m\u001B[38;5;28mself\u001B[39m\u001B[38;5;241m.\u001B[39m_kwargs, \u001B[38;5;241m*\u001B[39m\u001B[38;5;241m*\u001B[39mkwargs}\n\u001B[1;32m    376\u001B[0m \u001B[38;5;28;01mreturn\u001B[39;00m \u001B[38;5;28mself\u001B[39m\u001B[38;5;241m.\u001B[39m_sign \u001B[38;5;241m*\u001B[39m \u001B[38;5;28mself\u001B[39m\u001B[38;5;241m.\u001B[39m_score_func(y_true, y_pred, \u001B[38;5;241m*\u001B[39m\u001B[38;5;241m*\u001B[39mscoring_kwargs)\n",
      "File \u001B[0;32m~/Desktop/trabalho_ids/env_trab_ids/lib/python3.10/site-packages/sklearn/metrics/_scorer.py:89\u001B[0m, in \u001B[0;36m_cached_call\u001B[0;34m(cache, estimator, response_method, *args, **kwargs)\u001B[0m\n\u001B[1;32m     86\u001B[0m \u001B[38;5;28;01mif\u001B[39;00m cache \u001B[38;5;129;01mis\u001B[39;00m \u001B[38;5;129;01mnot\u001B[39;00m \u001B[38;5;28;01mNone\u001B[39;00m \u001B[38;5;129;01mand\u001B[39;00m response_method \u001B[38;5;129;01min\u001B[39;00m cache:\n\u001B[1;32m     87\u001B[0m     \u001B[38;5;28;01mreturn\u001B[39;00m cache[response_method]\n\u001B[0;32m---> 89\u001B[0m result, _ \u001B[38;5;241m=\u001B[39m \u001B[43m_get_response_values\u001B[49m\u001B[43m(\u001B[49m\n\u001B[1;32m     90\u001B[0m \u001B[43m    \u001B[49m\u001B[43mestimator\u001B[49m\u001B[43m,\u001B[49m\u001B[43m \u001B[49m\u001B[38;5;241;43m*\u001B[39;49m\u001B[43margs\u001B[49m\u001B[43m,\u001B[49m\u001B[43m \u001B[49m\u001B[43mresponse_method\u001B[49m\u001B[38;5;241;43m=\u001B[39;49m\u001B[43mresponse_method\u001B[49m\u001B[43m,\u001B[49m\u001B[43m \u001B[49m\u001B[38;5;241;43m*\u001B[39;49m\u001B[38;5;241;43m*\u001B[39;49m\u001B[43mkwargs\u001B[49m\n\u001B[1;32m     91\u001B[0m \u001B[43m\u001B[49m\u001B[43m)\u001B[49m\n\u001B[1;32m     93\u001B[0m \u001B[38;5;28;01mif\u001B[39;00m cache \u001B[38;5;129;01mis\u001B[39;00m \u001B[38;5;129;01mnot\u001B[39;00m \u001B[38;5;28;01mNone\u001B[39;00m:\n\u001B[1;32m     94\u001B[0m     cache[response_method] \u001B[38;5;241m=\u001B[39m result\n",
      "File \u001B[0;32m~/Desktop/trabalho_ids/env_trab_ids/lib/python3.10/site-packages/sklearn/utils/_response.py:211\u001B[0m, in \u001B[0;36m_get_response_values\u001B[0;34m(estimator, X, response_method, pos_label, return_response_method_used)\u001B[0m\n\u001B[1;32m    208\u001B[0m     \u001B[38;5;28;01melif\u001B[39;00m pos_label \u001B[38;5;129;01mis\u001B[39;00m \u001B[38;5;28;01mNone\u001B[39;00m \u001B[38;5;129;01mand\u001B[39;00m target_type \u001B[38;5;241m==\u001B[39m \u001B[38;5;124m\"\u001B[39m\u001B[38;5;124mbinary\u001B[39m\u001B[38;5;124m\"\u001B[39m:\n\u001B[1;32m    209\u001B[0m         pos_label \u001B[38;5;241m=\u001B[39m classes[\u001B[38;5;241m-\u001B[39m\u001B[38;5;241m1\u001B[39m]\n\u001B[0;32m--> 211\u001B[0m y_pred \u001B[38;5;241m=\u001B[39m \u001B[43mprediction_method\u001B[49m\u001B[43m(\u001B[49m\u001B[43mX\u001B[49m\u001B[43m)\u001B[49m\n\u001B[1;32m    213\u001B[0m \u001B[38;5;28;01mif\u001B[39;00m prediction_method\u001B[38;5;241m.\u001B[39m\u001B[38;5;18m__name__\u001B[39m \u001B[38;5;129;01min\u001B[39;00m (\u001B[38;5;124m\"\u001B[39m\u001B[38;5;124mpredict_proba\u001B[39m\u001B[38;5;124m\"\u001B[39m, \u001B[38;5;124m\"\u001B[39m\u001B[38;5;124mpredict_log_proba\u001B[39m\u001B[38;5;124m\"\u001B[39m):\n\u001B[1;32m    214\u001B[0m     y_pred \u001B[38;5;241m=\u001B[39m _process_predict_proba(\n\u001B[1;32m    215\u001B[0m         y_pred\u001B[38;5;241m=\u001B[39my_pred,\n\u001B[1;32m    216\u001B[0m         target_type\u001B[38;5;241m=\u001B[39mtarget_type,\n\u001B[1;32m    217\u001B[0m         classes\u001B[38;5;241m=\u001B[39mclasses,\n\u001B[1;32m    218\u001B[0m         pos_label\u001B[38;5;241m=\u001B[39mpos_label,\n\u001B[1;32m    219\u001B[0m     )\n",
      "File \u001B[0;32m~/Desktop/trabalho_ids/env_trab_ids/lib/python3.10/site-packages/sklearn/neighbors/_classification.py:271\u001B[0m, in \u001B[0;36mKNeighborsClassifier.predict\u001B[0;34m(self, X)\u001B[0m\n\u001B[1;32m    268\u001B[0m         \u001B[38;5;28;01mreturn\u001B[39;00m \u001B[38;5;28mself\u001B[39m\u001B[38;5;241m.\u001B[39mclasses_[np\u001B[38;5;241m.\u001B[39margmax(probabilities, axis\u001B[38;5;241m=\u001B[39m\u001B[38;5;241m1\u001B[39m)]\n\u001B[1;32m    269\u001B[0m     \u001B[38;5;66;03m# In that case, we do not need the distances to perform\u001B[39;00m\n\u001B[1;32m    270\u001B[0m     \u001B[38;5;66;03m# the weighting so we do not compute them.\u001B[39;00m\n\u001B[0;32m--> 271\u001B[0m     neigh_ind \u001B[38;5;241m=\u001B[39m \u001B[38;5;28;43mself\u001B[39;49m\u001B[38;5;241;43m.\u001B[39;49m\u001B[43mkneighbors\u001B[49m\u001B[43m(\u001B[49m\u001B[43mX\u001B[49m\u001B[43m,\u001B[49m\u001B[43m \u001B[49m\u001B[43mreturn_distance\u001B[49m\u001B[38;5;241;43m=\u001B[39;49m\u001B[38;5;28;43;01mFalse\u001B[39;49;00m\u001B[43m)\u001B[49m\n\u001B[1;32m    272\u001B[0m     neigh_dist \u001B[38;5;241m=\u001B[39m \u001B[38;5;28;01mNone\u001B[39;00m\n\u001B[1;32m    273\u001B[0m \u001B[38;5;28;01melse\u001B[39;00m:\n",
      "File \u001B[0;32m~/Desktop/trabalho_ids/env_trab_ids/lib/python3.10/site-packages/sklearn/neighbors/_base.py:849\u001B[0m, in \u001B[0;36mKNeighborsMixin.kneighbors\u001B[0;34m(self, X, n_neighbors, return_distance)\u001B[0m\n\u001B[1;32m    842\u001B[0m use_pairwise_distances_reductions \u001B[38;5;241m=\u001B[39m (\n\u001B[1;32m    843\u001B[0m     \u001B[38;5;28mself\u001B[39m\u001B[38;5;241m.\u001B[39m_fit_method \u001B[38;5;241m==\u001B[39m \u001B[38;5;124m\"\u001B[39m\u001B[38;5;124mbrute\u001B[39m\u001B[38;5;124m\"\u001B[39m\n\u001B[1;32m    844\u001B[0m     \u001B[38;5;129;01mand\u001B[39;00m ArgKmin\u001B[38;5;241m.\u001B[39mis_usable_for(\n\u001B[1;32m    845\u001B[0m         X \u001B[38;5;28;01mif\u001B[39;00m X \u001B[38;5;129;01mis\u001B[39;00m \u001B[38;5;129;01mnot\u001B[39;00m \u001B[38;5;28;01mNone\u001B[39;00m \u001B[38;5;28;01melse\u001B[39;00m \u001B[38;5;28mself\u001B[39m\u001B[38;5;241m.\u001B[39m_fit_X, \u001B[38;5;28mself\u001B[39m\u001B[38;5;241m.\u001B[39m_fit_X, \u001B[38;5;28mself\u001B[39m\u001B[38;5;241m.\u001B[39meffective_metric_\n\u001B[1;32m    846\u001B[0m     )\n\u001B[1;32m    847\u001B[0m )\n\u001B[1;32m    848\u001B[0m \u001B[38;5;28;01mif\u001B[39;00m use_pairwise_distances_reductions:\n\u001B[0;32m--> 849\u001B[0m     results \u001B[38;5;241m=\u001B[39m \u001B[43mArgKmin\u001B[49m\u001B[38;5;241;43m.\u001B[39;49m\u001B[43mcompute\u001B[49m\u001B[43m(\u001B[49m\n\u001B[1;32m    850\u001B[0m \u001B[43m        \u001B[49m\u001B[43mX\u001B[49m\u001B[38;5;241;43m=\u001B[39;49m\u001B[43mX\u001B[49m\u001B[43m,\u001B[49m\n\u001B[1;32m    851\u001B[0m \u001B[43m        \u001B[49m\u001B[43mY\u001B[49m\u001B[38;5;241;43m=\u001B[39;49m\u001B[38;5;28;43mself\u001B[39;49m\u001B[38;5;241;43m.\u001B[39;49m\u001B[43m_fit_X\u001B[49m\u001B[43m,\u001B[49m\n\u001B[1;32m    852\u001B[0m \u001B[43m        \u001B[49m\u001B[43mk\u001B[49m\u001B[38;5;241;43m=\u001B[39;49m\u001B[43mn_neighbors\u001B[49m\u001B[43m,\u001B[49m\n\u001B[1;32m    853\u001B[0m \u001B[43m        \u001B[49m\u001B[43mmetric\u001B[49m\u001B[38;5;241;43m=\u001B[39;49m\u001B[38;5;28;43mself\u001B[39;49m\u001B[38;5;241;43m.\u001B[39;49m\u001B[43meffective_metric_\u001B[49m\u001B[43m,\u001B[49m\n\u001B[1;32m    854\u001B[0m \u001B[43m        \u001B[49m\u001B[43mmetric_kwargs\u001B[49m\u001B[38;5;241;43m=\u001B[39;49m\u001B[38;5;28;43mself\u001B[39;49m\u001B[38;5;241;43m.\u001B[39;49m\u001B[43meffective_metric_params_\u001B[49m\u001B[43m,\u001B[49m\n\u001B[1;32m    855\u001B[0m \u001B[43m        \u001B[49m\u001B[43mstrategy\u001B[49m\u001B[38;5;241;43m=\u001B[39;49m\u001B[38;5;124;43m\"\u001B[39;49m\u001B[38;5;124;43mauto\u001B[39;49m\u001B[38;5;124;43m\"\u001B[39;49m\u001B[43m,\u001B[49m\n\u001B[1;32m    856\u001B[0m \u001B[43m        \u001B[49m\u001B[43mreturn_distance\u001B[49m\u001B[38;5;241;43m=\u001B[39;49m\u001B[43mreturn_distance\u001B[49m\u001B[43m,\u001B[49m\n\u001B[1;32m    857\u001B[0m \u001B[43m    \u001B[49m\u001B[43m)\u001B[49m\n\u001B[1;32m    859\u001B[0m \u001B[38;5;28;01melif\u001B[39;00m (\n\u001B[1;32m    860\u001B[0m     \u001B[38;5;28mself\u001B[39m\u001B[38;5;241m.\u001B[39m_fit_method \u001B[38;5;241m==\u001B[39m \u001B[38;5;124m\"\u001B[39m\u001B[38;5;124mbrute\u001B[39m\u001B[38;5;124m\"\u001B[39m \u001B[38;5;129;01mand\u001B[39;00m \u001B[38;5;28mself\u001B[39m\u001B[38;5;241m.\u001B[39mmetric \u001B[38;5;241m==\u001B[39m \u001B[38;5;124m\"\u001B[39m\u001B[38;5;124mprecomputed\u001B[39m\u001B[38;5;124m\"\u001B[39m \u001B[38;5;129;01mand\u001B[39;00m issparse(X)\n\u001B[1;32m    861\u001B[0m ):\n\u001B[1;32m    862\u001B[0m     results \u001B[38;5;241m=\u001B[39m _kneighbors_from_graph(\n\u001B[1;32m    863\u001B[0m         X, n_neighbors\u001B[38;5;241m=\u001B[39mn_neighbors, return_distance\u001B[38;5;241m=\u001B[39mreturn_distance\n\u001B[1;32m    864\u001B[0m     )\n",
      "File \u001B[0;32m~/Desktop/trabalho_ids/env_trab_ids/lib/python3.10/site-packages/sklearn/metrics/_pairwise_distances_reduction/_dispatcher.py:278\u001B[0m, in \u001B[0;36mArgKmin.compute\u001B[0;34m(cls, X, Y, k, metric, chunk_size, metric_kwargs, strategy, return_distance)\u001B[0m\n\u001B[1;32m    197\u001B[0m \u001B[38;5;250m\u001B[39m\u001B[38;5;124;03m\"\"\"Compute the argkmin reduction.\u001B[39;00m\n\u001B[1;32m    198\u001B[0m \n\u001B[1;32m    199\u001B[0m \u001B[38;5;124;03mParameters\u001B[39;00m\n\u001B[0;32m   (...)\u001B[0m\n\u001B[1;32m    275\u001B[0m \u001B[38;5;124;03mreturns.\u001B[39;00m\n\u001B[1;32m    276\u001B[0m \u001B[38;5;124;03m\"\"\"\u001B[39;00m\n\u001B[1;32m    277\u001B[0m \u001B[38;5;28;01mif\u001B[39;00m X\u001B[38;5;241m.\u001B[39mdtype \u001B[38;5;241m==\u001B[39m Y\u001B[38;5;241m.\u001B[39mdtype \u001B[38;5;241m==\u001B[39m np\u001B[38;5;241m.\u001B[39mfloat64:\n\u001B[0;32m--> 278\u001B[0m     \u001B[38;5;28;01mreturn\u001B[39;00m \u001B[43mArgKmin64\u001B[49m\u001B[38;5;241;43m.\u001B[39;49m\u001B[43mcompute\u001B[49m\u001B[43m(\u001B[49m\n\u001B[1;32m    279\u001B[0m \u001B[43m        \u001B[49m\u001B[43mX\u001B[49m\u001B[38;5;241;43m=\u001B[39;49m\u001B[43mX\u001B[49m\u001B[43m,\u001B[49m\n\u001B[1;32m    280\u001B[0m \u001B[43m        \u001B[49m\u001B[43mY\u001B[49m\u001B[38;5;241;43m=\u001B[39;49m\u001B[43mY\u001B[49m\u001B[43m,\u001B[49m\n\u001B[1;32m    281\u001B[0m \u001B[43m        \u001B[49m\u001B[43mk\u001B[49m\u001B[38;5;241;43m=\u001B[39;49m\u001B[43mk\u001B[49m\u001B[43m,\u001B[49m\n\u001B[1;32m    282\u001B[0m \u001B[43m        \u001B[49m\u001B[43mmetric\u001B[49m\u001B[38;5;241;43m=\u001B[39;49m\u001B[43mmetric\u001B[49m\u001B[43m,\u001B[49m\n\u001B[1;32m    283\u001B[0m \u001B[43m        \u001B[49m\u001B[43mchunk_size\u001B[49m\u001B[38;5;241;43m=\u001B[39;49m\u001B[43mchunk_size\u001B[49m\u001B[43m,\u001B[49m\n\u001B[1;32m    284\u001B[0m \u001B[43m        \u001B[49m\u001B[43mmetric_kwargs\u001B[49m\u001B[38;5;241;43m=\u001B[39;49m\u001B[43mmetric_kwargs\u001B[49m\u001B[43m,\u001B[49m\n\u001B[1;32m    285\u001B[0m \u001B[43m        \u001B[49m\u001B[43mstrategy\u001B[49m\u001B[38;5;241;43m=\u001B[39;49m\u001B[43mstrategy\u001B[49m\u001B[43m,\u001B[49m\n\u001B[1;32m    286\u001B[0m \u001B[43m        \u001B[49m\u001B[43mreturn_distance\u001B[49m\u001B[38;5;241;43m=\u001B[39;49m\u001B[43mreturn_distance\u001B[49m\u001B[43m,\u001B[49m\n\u001B[1;32m    287\u001B[0m \u001B[43m    \u001B[49m\u001B[43m)\u001B[49m\n\u001B[1;32m    289\u001B[0m \u001B[38;5;28;01mif\u001B[39;00m X\u001B[38;5;241m.\u001B[39mdtype \u001B[38;5;241m==\u001B[39m Y\u001B[38;5;241m.\u001B[39mdtype \u001B[38;5;241m==\u001B[39m np\u001B[38;5;241m.\u001B[39mfloat32:\n\u001B[1;32m    290\u001B[0m     \u001B[38;5;28;01mreturn\u001B[39;00m ArgKmin32\u001B[38;5;241m.\u001B[39mcompute(\n\u001B[1;32m    291\u001B[0m         X\u001B[38;5;241m=\u001B[39mX,\n\u001B[1;32m    292\u001B[0m         Y\u001B[38;5;241m=\u001B[39mY,\n\u001B[0;32m   (...)\u001B[0m\n\u001B[1;32m    298\u001B[0m         return_distance\u001B[38;5;241m=\u001B[39mreturn_distance,\n\u001B[1;32m    299\u001B[0m     )\n",
      "File \u001B[0;32msklearn/metrics/_pairwise_distances_reduction/_argkmin.pyx:59\u001B[0m, in \u001B[0;36msklearn.metrics._pairwise_distances_reduction._argkmin.ArgKmin64.compute\u001B[0;34m()\u001B[0m\n",
      "File \u001B[0;32m~/Desktop/trabalho_ids/env_trab_ids/lib/python3.10/site-packages/threadpoolctl.py:592\u001B[0m, in \u001B[0;36m_ThreadpoolLimiter.__exit__\u001B[0;34m(self, type, value, traceback)\u001B[0m\n\u001B[1;32m    589\u001B[0m \u001B[38;5;28;01mdef\u001B[39;00m \u001B[38;5;21m__enter__\u001B[39m(\u001B[38;5;28mself\u001B[39m):\n\u001B[1;32m    590\u001B[0m     \u001B[38;5;28;01mreturn\u001B[39;00m \u001B[38;5;28mself\u001B[39m\n\u001B[0;32m--> 592\u001B[0m \u001B[38;5;28;01mdef\u001B[39;00m \u001B[38;5;21m__exit__\u001B[39m(\u001B[38;5;28mself\u001B[39m, \u001B[38;5;28mtype\u001B[39m, value, traceback):\n\u001B[1;32m    593\u001B[0m     \u001B[38;5;28mself\u001B[39m\u001B[38;5;241m.\u001B[39mrestore_original_limits()\n\u001B[1;32m    595\u001B[0m \u001B[38;5;129m@classmethod\u001B[39m\n\u001B[1;32m    596\u001B[0m \u001B[38;5;28;01mdef\u001B[39;00m \u001B[38;5;21mwrap\u001B[39m(\u001B[38;5;28mcls\u001B[39m, controller, \u001B[38;5;241m*\u001B[39m, limits\u001B[38;5;241m=\u001B[39m\u001B[38;5;28;01mNone\u001B[39;00m, user_api\u001B[38;5;241m=\u001B[39m\u001B[38;5;28;01mNone\u001B[39;00m):\n",
      "\u001B[0;31mKeyboardInterrupt\u001B[0m: "
     ]
    }
   ],
   "execution_count": 30
  },
  {
   "metadata": {},
   "cell_type": "markdown",
   "source": "# Predicting with smote\n",
   "id": "31c7462f23c585da"
  },
  {
   "metadata": {
    "ExecuteTime": {
     "end_time": "2024-11-15T11:49:39.768349Z",
     "start_time": "2024-11-15T11:49:39.746776Z"
    }
   },
   "cell_type": "code",
   "source": "X_reduced, X_test, y_train, y_test = train_test_split(X, y, test_size=0.2, random_state=42)\n",
   "id": "df1e0fa18ed722c7",
   "outputs": [],
   "execution_count": 31
  },
  {
   "metadata": {
    "ExecuteTime": {
     "end_time": "2024-11-15T11:50:38.434364Z",
     "start_time": "2024-11-15T11:50:38.270878Z"
    }
   },
   "cell_type": "code",
   "source": [
    "from imblearn.over_sampling import SMOTE\n",
    "\n",
    "sm = SMOTE()\n",
    "X_sm, y_sm = sm.fit_resample(X_train, y_train)"
   ],
   "id": "eebe6c67a9e75843",
   "outputs": [],
   "execution_count": 34
  },
  {
   "metadata": {
    "ExecuteTime": {
     "end_time": "2024-11-15T11:50:52.316663Z",
     "start_time": "2024-11-15T11:50:40.207951Z"
    }
   },
   "cell_type": "code",
   "source": [
    "rfc_model = RandomForestClassifier(n_estimators=100)  # You can adjust n_estimators\n",
    "rfc_model.fit(X_sm, y_sm)\n",
    "\n",
    "rfc_y_pred = rfc_model.predict(X_test)\n",
    "\n",
    "rfc_metrics = evaluate_model(rfc_model, X_test, y_test)\n",
    "\n",
    "for metric, value in rfc_metrics.items():\n",
    "    print(f\"{metric}: {value}\")"
   ],
   "id": "81d7776babf667b4",
   "outputs": [
    {
     "name": "stdout",
     "output_type": "stream",
     "text": [
      "accuracy: 0.8787707523843165\n",
      "precision: 0.9196590223295111\n",
      "recall: 0.9493069615324716\n",
      "f1_score: 0.9342478350831481\n",
      "specifity: 0.18888042650418888\n",
      "confusion_matrix: [[  248  1065]\n",
      " [  651 12191]]\n"
     ]
    }
   ],
   "execution_count": 35
  },
  {
   "metadata": {},
   "cell_type": "markdown",
   "source": "Doesnt work !!",
   "id": "ecf46f482bb2ce6b"
  },
  {
   "metadata": {
    "ExecuteTime": {
     "end_time": "2024-10-29T10:35:18.973137Z",
     "start_time": "2024-10-29T10:35:18.860851Z"
    }
   },
   "cell_type": "code",
   "source": [
    "rfc_df = pd.DataFrame({'real': y_test, 'prevision': rfc_y_pred})\n",
    "\n",
    "df = pd.DataFrame(rfc_df, columns=['real', 'prevision'])\n",
    "\n",
    "cf_matrix = pd.crosstab(df['real'], df['prevision'], rownames=['real'], colnames=['prevision'])\n",
    "sns.heatmap(cf_matrix, annot=True, cmap='Blues', fmt=\"d\")"
   ],
   "id": "afad53f022f7e8e",
   "outputs": [
    {
     "data": {
      "text/plain": [
       "<Axes: xlabel='prevision', ylabel='real'>"
      ]
     },
     "execution_count": 39,
     "metadata": {},
     "output_type": "execute_result"
    },
    {
     "data": {
      "text/plain": [
       "<Figure size 640x480 with 2 Axes>"
      ],
      "image/png": "[encoded data removed]"
     },
     "metadata": {},
     "output_type": "display_data"
    }
   ],
   "execution_count": 39
  },
  {
   "metadata": {},
   "cell_type": "markdown",
   "source": "## KNN\n",
   "id": "83498bb33e603dab"
  },
  {
   "metadata": {
    "ExecuteTime": {
     "end_time": "2024-10-29T10:36:12.395103Z",
     "start_time": "2024-10-29T10:36:07.110162Z"
    }
   },
   "cell_type": "code",
   "source": [
    "knn_model = KNeighborsClassifier()  # You can adjust n_estimators\n",
    "knn_model.fit(X_sm, y_sm)\n",
    "\n",
    "knn_y_pred = knn_model.predict(X_test)\n",
    "\n",
    "knn_metrics = evaluate_model(knn_model, X_test, y_test)\n",
    "\n",
    "for metric, value in knn_metrics.items():\n",
    "    print(f\"{metric}: {value}\")"
   ],
   "id": "f459b050c448e77b",
   "outputs": [
    {
     "name": "stdout",
     "output_type": "stream",
     "text": [
      "accuracy: 0.7905333804309431\n",
      "precision: 0.9285032537960954\n",
      "recall: 0.833281420339511\n",
      "f1_score: 0.8783190380432552\n",
      "specifity: 0.37242955064737243\n",
      "confusion_matrix: [[  489   824]\n",
      " [ 2141 10701]]\n"
     ]
    }
   ],
   "execution_count": 40
  },
  {
   "metadata": {},
   "cell_type": "markdown",
   "source": "# ANN",
   "id": "e95384b84389602d"
  },
  {
   "metadata": {
    "ExecuteTime": {
     "end_time": "2024-11-15T12:02:34.364347Z",
     "start_time": "2024-11-15T12:02:34.153693Z"
    }
   },
   "cell_type": "code",
   "source": "plt.violinplot(np.log1p(data[\"income\"]))",
   "id": "51a6ec952f174966",
   "outputs": [
    {
     "data": {
      "text/plain": [
       "{'bodies': [<matplotlib.collections.PolyCollection at 0x7055671c8520>],\n",
       " 'cmaxes': <matplotlib.collections.LineCollection at 0x70556beedd80>,\n",
       " 'cmins': <matplotlib.collections.LineCollection at 0x7055671c8af0>,\n",
       " 'cbars': <matplotlib.collections.LineCollection at 0x7055671c8eb0>}"
      ]
     },
     "execution_count": 39,
     "metadata": {},
     "output_type": "execute_result"
    },
    {
     "data": {
      "text/plain": [
       "<Figure size 640x480 with 1 Axes>"
      ],
      "image/png": "[encoded data removed]"
     },
     "metadata": {},
     "output_type": "display_data"
    }
   ],
   "execution_count": 39
  },
  {
   "metadata": {
    "ExecuteTime": {
     "end_time": "2024-11-15T12:02:53.924325Z",
     "start_time": "2024-11-15T12:02:53.919465Z"
    }
   },
   "cell_type": "code",
   "source": "data[\"income\"].unique()",
   "id": "28faa22a9f359a36",
   "outputs": [
    {
     "data": {
      "text/plain": [
       "array([-0.35183473, -0.33137146, -0.36888746, ..., -0.29880074,\n",
       "       -0.41987512, -0.269129  ])"
      ]
     },
     "execution_count": 40,
     "metadata": {},
     "output_type": "execute_result"
    }
   ],
   "execution_count": 40
  },
  {
   "metadata": {},
   "cell_type": "code",
   "outputs": [],
   "execution_count": null,
   "source": "",
   "id": "6a2f6c48dd7d9831"
  },
  {
   "metadata": {},
   "cell_type": "code",
   "outputs": [],
   "execution_count": null,
   "source": "",
   "id": "3f275d7c97f1fedd"
  }
 ],
 "metadata": {
  "kernelspec": {
   "display_name": "Python 3",
   "language": "python",
   "name": "python3"
  },
  "language_info": {
   "codemirror_mode": {
    "name": "ipython",
    "version": 2
   },
   "file_extension": ".py",
   "mimetype": "text/x-python",
   "name": "python",
   "nbconvert_exporter": "python",
   "pygments_lexer": "ipython2",
   "version": "2.7.6"
  }
 },
 "nbformat": 4,
 "nbformat_minor": 5
}
