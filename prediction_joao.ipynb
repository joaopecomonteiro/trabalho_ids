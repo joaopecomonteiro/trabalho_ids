{
 "cells": [
  {
   "cell_type": "code",
   "execution_count": 1,
   "id": "initial_id",
   "metadata": {
    "ExecuteTime": {
     "end_time": "2024-12-06T11:53:49.649477Z",
     "start_time": "2024-12-06T11:53:49.641086Z"
    },
    "collapsed": true
   },
   "outputs": [],
   "source": [
    "import pandas as pd\n",
    "import numpy as np\n",
    "import os\n",
    "import matplotlib.pyplot as plt\n",
    "import seaborn as sns\n",
    "from scipy.stats import zscore\n",
    "from sklearn.impute import KNNImputer\n",
    "from sklearn.metrics import accuracy_score, precision_score, recall_score, f1_score, confusion_matrix, roc_auc_score\n",
    "from sklearn.model_selection import train_test_split\n",
    "from sklearn.ensemble import RandomForestClassifier\n",
    "from sklearn.model_selection import GridSearchCV\n",
    "from skopt import BayesSearchCV\n",
    "from sklearn.svm import SVC\n",
    "from imblearn.over_sampling import SMOTE\n",
    "from sklearn.decomposition import PCA\n",
    "import pickle"
   ]
  },
  {
   "cell_type": "code",
   "execution_count": 2,
   "id": "92a9b6ac678cfb72",
   "metadata": {
    "ExecuteTime": {
     "end_time": "2024-12-06T11:55:03.363306Z",
     "start_time": "2024-12-06T11:55:02.331211Z"
    }
   },
   "outputs": [
    {
     "ename": "FileNotFoundError",
     "evalue": "[Errno 2] No such file or directory: 'dfs\\\\df_normal.csv'",
     "output_type": "error",
     "traceback": [
      "\u001b[1;31m---------------------------------------------------------------------------\u001b[0m",
      "\u001b[1;31mFileNotFoundError\u001b[0m                         Traceback (most recent call last)",
      "Cell \u001b[1;32mIn[2], line 7\u001b[0m\n\u001b[0;32m      4\u001b[0m dfs \u001b[38;5;241m=\u001b[39m []\n\u001b[0;32m      6\u001b[0m \u001b[38;5;28;01mfor\u001b[39;00m name \u001b[38;5;129;01min\u001b[39;00m df_names:\n\u001b[1;32m----> 7\u001b[0m     dfs\u001b[38;5;241m.\u001b[39mappend(\u001b[43mpd\u001b[49m\u001b[38;5;241;43m.\u001b[39;49m\u001b[43mread_csv\u001b[49m\u001b[43m(\u001b[49m\u001b[43mos\u001b[49m\u001b[38;5;241;43m.\u001b[39;49m\u001b[43mpath\u001b[49m\u001b[38;5;241;43m.\u001b[39;49m\u001b[43mjoin\u001b[49m\u001b[43m(\u001b[49m\u001b[43mdfs_dir\u001b[49m\u001b[43m,\u001b[49m\u001b[43m \u001b[49m\u001b[38;5;124;43mf\u001b[39;49m\u001b[38;5;124;43m\"\u001b[39;49m\u001b[38;5;124;43mdf_\u001b[39;49m\u001b[38;5;132;43;01m{\u001b[39;49;00m\u001b[43mname\u001b[49m\u001b[38;5;132;43;01m}\u001b[39;49;00m\u001b[38;5;124;43m.csv\u001b[39;49m\u001b[38;5;124;43m\"\u001b[39;49m\u001b[43m)\u001b[49m\u001b[43m)\u001b[49m)\n\u001b[0;32m      9\u001b[0m encoders \u001b[38;5;241m=\u001b[39m []\n\u001b[0;32m     10\u001b[0m \u001b[38;5;28;01mfor\u001b[39;00m i \u001b[38;5;129;01min\u001b[39;00m \u001b[38;5;28mrange\u001b[39m(\u001b[38;5;28mlen\u001b[39m(df_names)):\n",
      "File \u001b[1;32mc:\\Users\\castr\\anaconda3\\envs\\IAP2\\Lib\\site-packages\\pandas\\io\\parsers\\readers.py:1026\u001b[0m, in \u001b[0;36mread_csv\u001b[1;34m(filepath_or_buffer, sep, delimiter, header, names, index_col, usecols, dtype, engine, converters, true_values, false_values, skipinitialspace, skiprows, skipfooter, nrows, na_values, keep_default_na, na_filter, verbose, skip_blank_lines, parse_dates, infer_datetime_format, keep_date_col, date_parser, date_format, dayfirst, cache_dates, iterator, chunksize, compression, thousands, decimal, lineterminator, quotechar, quoting, doublequote, escapechar, comment, encoding, encoding_errors, dialect, on_bad_lines, delim_whitespace, low_memory, memory_map, float_precision, storage_options, dtype_backend)\u001b[0m\n\u001b[0;32m   1013\u001b[0m kwds_defaults \u001b[38;5;241m=\u001b[39m _refine_defaults_read(\n\u001b[0;32m   1014\u001b[0m     dialect,\n\u001b[0;32m   1015\u001b[0m     delimiter,\n\u001b[1;32m   (...)\u001b[0m\n\u001b[0;32m   1022\u001b[0m     dtype_backend\u001b[38;5;241m=\u001b[39mdtype_backend,\n\u001b[0;32m   1023\u001b[0m )\n\u001b[0;32m   1024\u001b[0m kwds\u001b[38;5;241m.\u001b[39mupdate(kwds_defaults)\n\u001b[1;32m-> 1026\u001b[0m \u001b[38;5;28;01mreturn\u001b[39;00m \u001b[43m_read\u001b[49m\u001b[43m(\u001b[49m\u001b[43mfilepath_or_buffer\u001b[49m\u001b[43m,\u001b[49m\u001b[43m \u001b[49m\u001b[43mkwds\u001b[49m\u001b[43m)\u001b[49m\n",
      "File \u001b[1;32mc:\\Users\\castr\\anaconda3\\envs\\IAP2\\Lib\\site-packages\\pandas\\io\\parsers\\readers.py:620\u001b[0m, in \u001b[0;36m_read\u001b[1;34m(filepath_or_buffer, kwds)\u001b[0m\n\u001b[0;32m    617\u001b[0m _validate_names(kwds\u001b[38;5;241m.\u001b[39mget(\u001b[38;5;124m\"\u001b[39m\u001b[38;5;124mnames\u001b[39m\u001b[38;5;124m\"\u001b[39m, \u001b[38;5;28;01mNone\u001b[39;00m))\n\u001b[0;32m    619\u001b[0m \u001b[38;5;66;03m# Create the parser.\u001b[39;00m\n\u001b[1;32m--> 620\u001b[0m parser \u001b[38;5;241m=\u001b[39m \u001b[43mTextFileReader\u001b[49m\u001b[43m(\u001b[49m\u001b[43mfilepath_or_buffer\u001b[49m\u001b[43m,\u001b[49m\u001b[43m \u001b[49m\u001b[38;5;241;43m*\u001b[39;49m\u001b[38;5;241;43m*\u001b[39;49m\u001b[43mkwds\u001b[49m\u001b[43m)\u001b[49m\n\u001b[0;32m    622\u001b[0m \u001b[38;5;28;01mif\u001b[39;00m chunksize \u001b[38;5;129;01mor\u001b[39;00m iterator:\n\u001b[0;32m    623\u001b[0m     \u001b[38;5;28;01mreturn\u001b[39;00m parser\n",
      "File \u001b[1;32mc:\\Users\\castr\\anaconda3\\envs\\IAP2\\Lib\\site-packages\\pandas\\io\\parsers\\readers.py:1620\u001b[0m, in \u001b[0;36mTextFileReader.__init__\u001b[1;34m(self, f, engine, **kwds)\u001b[0m\n\u001b[0;32m   1617\u001b[0m     \u001b[38;5;28mself\u001b[39m\u001b[38;5;241m.\u001b[39moptions[\u001b[38;5;124m\"\u001b[39m\u001b[38;5;124mhas_index_names\u001b[39m\u001b[38;5;124m\"\u001b[39m] \u001b[38;5;241m=\u001b[39m kwds[\u001b[38;5;124m\"\u001b[39m\u001b[38;5;124mhas_index_names\u001b[39m\u001b[38;5;124m\"\u001b[39m]\n\u001b[0;32m   1619\u001b[0m \u001b[38;5;28mself\u001b[39m\u001b[38;5;241m.\u001b[39mhandles: IOHandles \u001b[38;5;241m|\u001b[39m \u001b[38;5;28;01mNone\u001b[39;00m \u001b[38;5;241m=\u001b[39m \u001b[38;5;28;01mNone\u001b[39;00m\n\u001b[1;32m-> 1620\u001b[0m \u001b[38;5;28mself\u001b[39m\u001b[38;5;241m.\u001b[39m_engine \u001b[38;5;241m=\u001b[39m \u001b[38;5;28;43mself\u001b[39;49m\u001b[38;5;241;43m.\u001b[39;49m\u001b[43m_make_engine\u001b[49m\u001b[43m(\u001b[49m\u001b[43mf\u001b[49m\u001b[43m,\u001b[49m\u001b[43m \u001b[49m\u001b[38;5;28;43mself\u001b[39;49m\u001b[38;5;241;43m.\u001b[39;49m\u001b[43mengine\u001b[49m\u001b[43m)\u001b[49m\n",
      "File \u001b[1;32mc:\\Users\\castr\\anaconda3\\envs\\IAP2\\Lib\\site-packages\\pandas\\io\\parsers\\readers.py:1880\u001b[0m, in \u001b[0;36mTextFileReader._make_engine\u001b[1;34m(self, f, engine)\u001b[0m\n\u001b[0;32m   1878\u001b[0m     \u001b[38;5;28;01mif\u001b[39;00m \u001b[38;5;124m\"\u001b[39m\u001b[38;5;124mb\u001b[39m\u001b[38;5;124m\"\u001b[39m \u001b[38;5;129;01mnot\u001b[39;00m \u001b[38;5;129;01min\u001b[39;00m mode:\n\u001b[0;32m   1879\u001b[0m         mode \u001b[38;5;241m+\u001b[39m\u001b[38;5;241m=\u001b[39m \u001b[38;5;124m\"\u001b[39m\u001b[38;5;124mb\u001b[39m\u001b[38;5;124m\"\u001b[39m\n\u001b[1;32m-> 1880\u001b[0m \u001b[38;5;28mself\u001b[39m\u001b[38;5;241m.\u001b[39mhandles \u001b[38;5;241m=\u001b[39m \u001b[43mget_handle\u001b[49m\u001b[43m(\u001b[49m\n\u001b[0;32m   1881\u001b[0m \u001b[43m    \u001b[49m\u001b[43mf\u001b[49m\u001b[43m,\u001b[49m\n\u001b[0;32m   1882\u001b[0m \u001b[43m    \u001b[49m\u001b[43mmode\u001b[49m\u001b[43m,\u001b[49m\n\u001b[0;32m   1883\u001b[0m \u001b[43m    \u001b[49m\u001b[43mencoding\u001b[49m\u001b[38;5;241;43m=\u001b[39;49m\u001b[38;5;28;43mself\u001b[39;49m\u001b[38;5;241;43m.\u001b[39;49m\u001b[43moptions\u001b[49m\u001b[38;5;241;43m.\u001b[39;49m\u001b[43mget\u001b[49m\u001b[43m(\u001b[49m\u001b[38;5;124;43m\"\u001b[39;49m\u001b[38;5;124;43mencoding\u001b[39;49m\u001b[38;5;124;43m\"\u001b[39;49m\u001b[43m,\u001b[49m\u001b[43m \u001b[49m\u001b[38;5;28;43;01mNone\u001b[39;49;00m\u001b[43m)\u001b[49m\u001b[43m,\u001b[49m\n\u001b[0;32m   1884\u001b[0m \u001b[43m    \u001b[49m\u001b[43mcompression\u001b[49m\u001b[38;5;241;43m=\u001b[39;49m\u001b[38;5;28;43mself\u001b[39;49m\u001b[38;5;241;43m.\u001b[39;49m\u001b[43moptions\u001b[49m\u001b[38;5;241;43m.\u001b[39;49m\u001b[43mget\u001b[49m\u001b[43m(\u001b[49m\u001b[38;5;124;43m\"\u001b[39;49m\u001b[38;5;124;43mcompression\u001b[39;49m\u001b[38;5;124;43m\"\u001b[39;49m\u001b[43m,\u001b[49m\u001b[43m \u001b[49m\u001b[38;5;28;43;01mNone\u001b[39;49;00m\u001b[43m)\u001b[49m\u001b[43m,\u001b[49m\n\u001b[0;32m   1885\u001b[0m \u001b[43m    \u001b[49m\u001b[43mmemory_map\u001b[49m\u001b[38;5;241;43m=\u001b[39;49m\u001b[38;5;28;43mself\u001b[39;49m\u001b[38;5;241;43m.\u001b[39;49m\u001b[43moptions\u001b[49m\u001b[38;5;241;43m.\u001b[39;49m\u001b[43mget\u001b[49m\u001b[43m(\u001b[49m\u001b[38;5;124;43m\"\u001b[39;49m\u001b[38;5;124;43mmemory_map\u001b[39;49m\u001b[38;5;124;43m\"\u001b[39;49m\u001b[43m,\u001b[49m\u001b[43m \u001b[49m\u001b[38;5;28;43;01mFalse\u001b[39;49;00m\u001b[43m)\u001b[49m\u001b[43m,\u001b[49m\n\u001b[0;32m   1886\u001b[0m \u001b[43m    \u001b[49m\u001b[43mis_text\u001b[49m\u001b[38;5;241;43m=\u001b[39;49m\u001b[43mis_text\u001b[49m\u001b[43m,\u001b[49m\n\u001b[0;32m   1887\u001b[0m \u001b[43m    \u001b[49m\u001b[43merrors\u001b[49m\u001b[38;5;241;43m=\u001b[39;49m\u001b[38;5;28;43mself\u001b[39;49m\u001b[38;5;241;43m.\u001b[39;49m\u001b[43moptions\u001b[49m\u001b[38;5;241;43m.\u001b[39;49m\u001b[43mget\u001b[49m\u001b[43m(\u001b[49m\u001b[38;5;124;43m\"\u001b[39;49m\u001b[38;5;124;43mencoding_errors\u001b[39;49m\u001b[38;5;124;43m\"\u001b[39;49m\u001b[43m,\u001b[49m\u001b[43m \u001b[49m\u001b[38;5;124;43m\"\u001b[39;49m\u001b[38;5;124;43mstrict\u001b[39;49m\u001b[38;5;124;43m\"\u001b[39;49m\u001b[43m)\u001b[49m\u001b[43m,\u001b[49m\n\u001b[0;32m   1888\u001b[0m \u001b[43m    \u001b[49m\u001b[43mstorage_options\u001b[49m\u001b[38;5;241;43m=\u001b[39;49m\u001b[38;5;28;43mself\u001b[39;49m\u001b[38;5;241;43m.\u001b[39;49m\u001b[43moptions\u001b[49m\u001b[38;5;241;43m.\u001b[39;49m\u001b[43mget\u001b[49m\u001b[43m(\u001b[49m\u001b[38;5;124;43m\"\u001b[39;49m\u001b[38;5;124;43mstorage_options\u001b[39;49m\u001b[38;5;124;43m\"\u001b[39;49m\u001b[43m,\u001b[49m\u001b[43m \u001b[49m\u001b[38;5;28;43;01mNone\u001b[39;49;00m\u001b[43m)\u001b[49m\u001b[43m,\u001b[49m\n\u001b[0;32m   1889\u001b[0m \u001b[43m\u001b[49m\u001b[43m)\u001b[49m\n\u001b[0;32m   1890\u001b[0m \u001b[38;5;28;01massert\u001b[39;00m \u001b[38;5;28mself\u001b[39m\u001b[38;5;241m.\u001b[39mhandles \u001b[38;5;129;01mis\u001b[39;00m \u001b[38;5;129;01mnot\u001b[39;00m \u001b[38;5;28;01mNone\u001b[39;00m\n\u001b[0;32m   1891\u001b[0m f \u001b[38;5;241m=\u001b[39m \u001b[38;5;28mself\u001b[39m\u001b[38;5;241m.\u001b[39mhandles\u001b[38;5;241m.\u001b[39mhandle\n",
      "File \u001b[1;32mc:\\Users\\castr\\anaconda3\\envs\\IAP2\\Lib\\site-packages\\pandas\\io\\common.py:873\u001b[0m, in \u001b[0;36mget_handle\u001b[1;34m(path_or_buf, mode, encoding, compression, memory_map, is_text, errors, storage_options)\u001b[0m\n\u001b[0;32m    868\u001b[0m \u001b[38;5;28;01melif\u001b[39;00m \u001b[38;5;28misinstance\u001b[39m(handle, \u001b[38;5;28mstr\u001b[39m):\n\u001b[0;32m    869\u001b[0m     \u001b[38;5;66;03m# Check whether the filename is to be opened in binary mode.\u001b[39;00m\n\u001b[0;32m    870\u001b[0m     \u001b[38;5;66;03m# Binary mode does not support 'encoding' and 'newline'.\u001b[39;00m\n\u001b[0;32m    871\u001b[0m     \u001b[38;5;28;01mif\u001b[39;00m ioargs\u001b[38;5;241m.\u001b[39mencoding \u001b[38;5;129;01mand\u001b[39;00m \u001b[38;5;124m\"\u001b[39m\u001b[38;5;124mb\u001b[39m\u001b[38;5;124m\"\u001b[39m \u001b[38;5;129;01mnot\u001b[39;00m \u001b[38;5;129;01min\u001b[39;00m ioargs\u001b[38;5;241m.\u001b[39mmode:\n\u001b[0;32m    872\u001b[0m         \u001b[38;5;66;03m# Encoding\u001b[39;00m\n\u001b[1;32m--> 873\u001b[0m         handle \u001b[38;5;241m=\u001b[39m \u001b[38;5;28;43mopen\u001b[39;49m\u001b[43m(\u001b[49m\n\u001b[0;32m    874\u001b[0m \u001b[43m            \u001b[49m\u001b[43mhandle\u001b[49m\u001b[43m,\u001b[49m\n\u001b[0;32m    875\u001b[0m \u001b[43m            \u001b[49m\u001b[43mioargs\u001b[49m\u001b[38;5;241;43m.\u001b[39;49m\u001b[43mmode\u001b[49m\u001b[43m,\u001b[49m\n\u001b[0;32m    876\u001b[0m \u001b[43m            \u001b[49m\u001b[43mencoding\u001b[49m\u001b[38;5;241;43m=\u001b[39;49m\u001b[43mioargs\u001b[49m\u001b[38;5;241;43m.\u001b[39;49m\u001b[43mencoding\u001b[49m\u001b[43m,\u001b[49m\n\u001b[0;32m    877\u001b[0m \u001b[43m            \u001b[49m\u001b[43merrors\u001b[49m\u001b[38;5;241;43m=\u001b[39;49m\u001b[43merrors\u001b[49m\u001b[43m,\u001b[49m\n\u001b[0;32m    878\u001b[0m \u001b[43m            \u001b[49m\u001b[43mnewline\u001b[49m\u001b[38;5;241;43m=\u001b[39;49m\u001b[38;5;124;43m\"\u001b[39;49m\u001b[38;5;124;43m\"\u001b[39;49m\u001b[43m,\u001b[49m\n\u001b[0;32m    879\u001b[0m \u001b[43m        \u001b[49m\u001b[43m)\u001b[49m\n\u001b[0;32m    880\u001b[0m     \u001b[38;5;28;01melse\u001b[39;00m:\n\u001b[0;32m    881\u001b[0m         \u001b[38;5;66;03m# Binary mode\u001b[39;00m\n\u001b[0;32m    882\u001b[0m         handle \u001b[38;5;241m=\u001b[39m \u001b[38;5;28mopen\u001b[39m(handle, ioargs\u001b[38;5;241m.\u001b[39mmode)\n",
      "\u001b[1;31mFileNotFoundError\u001b[0m: [Errno 2] No such file or directory: 'dfs\\\\df_normal.csv'"
     ]
    }
   ],
   "source": [
    "dfs_dir = \"dfs\"\n",
    "df_names = [\"normal\", \"minmax\", \"log\", \"zscore\"]\n",
    "\n",
    "dfs = []\n",
    "\n",
    "for name in df_names:\n",
    "    dfs.append(pd.read_csv(os.path.join(dfs_dir, f\"df_{name}.csv\")))\n",
    "    \n",
    "encoders = []\n",
    "for i in range(len(df_names)):\n",
    "    \n",
    "    encoder_path = f\"encoders/encoder_{i}.pkl\"\n",
    "    with open(encoder_path, 'rb') as file:  \n",
    "        encoder = pickle.load(file)\n",
    "        encoders.append(encoder)\n"
   ]
  },
  {
   "cell_type": "code",
   "execution_count": 3,
   "id": "6ea42f3d92a9ee7",
   "metadata": {
    "ExecuteTime": {
     "end_time": "2024-12-06T11:13:32.951995Z",
     "start_time": "2024-12-06T11:13:32.947194Z"
    }
   },
   "outputs": [],
   "source": [
    "def evaluate_model(model, X_test, y_test):\n",
    "    y_pred = model.predict(X_test)\n",
    "    \n",
    "    metrics = {}\n",
    "    \n",
    "    metrics['accuracy'] = accuracy_score(y_test, y_pred)\n",
    "    \n",
    "    metrics['precision'] = precision_score(y_test, y_pred)  # or 'macro' for multiclass\n",
    "    \n",
    "    metrics['recall'] = recall_score(y_test, y_pred)  # or 'macro'\n",
    "    \n",
    "    metrics['f1_score'] = f1_score(y_test, y_pred)  # or 'macro'\n",
    "    \n",
    "    conf_matrix = confusion_matrix(y_test, y_pred)\n",
    "    \n",
    "    [[tn, fp], [fn, tp]] = conf_matrix\n",
    "    metrics['specifity'] = tn / (tn+fp)\n",
    "    \n",
    "    metrics['confusion_matrix'] = conf_matrix\n",
    "    \n",
    "    return metrics"
   ]
  },
  {
   "cell_type": "code",
   "execution_count": 4,
   "id": "3dc61fb343716c0f",
   "metadata": {
    "ExecuteTime": {
     "end_time": "2024-12-06T11:46:28.323749Z",
     "start_time": "2024-12-06T11:46:28.315129Z"
    }
   },
   "outputs": [],
   "source": [
    "def train_model(model, X, y, test_size = 0.3, param_grid = None, n_iter = 32, cv = 5, scoring = \"f1\", verbose =2):\n",
    "    # X = df.drop(columns=['health_ins'])\n",
    "    # y = df['health_ins']\n",
    "    X_train, X_test, y_train, y_test = train_test_split(X, y, test_size=test_size)\n",
    "\n",
    "    if param_grid is None:\n",
    "        # print(\"ok\")\n",
    "        model.fit(X_train, y_train)\n",
    "        metrics = evaluate_model(model, X_test, y_test)\n",
    "\n",
    "        for metric, value in metrics.items():\n",
    "            print(f\"{metric}: {value}\")\n",
    "        \n",
    "        return model, metrics\n",
    "    \n",
    "    bayes_search = BayesSearchCV(estimator=model,search_spaces=param_grid,\n",
    "                            n_iter=n_iter, cv=cv, n_jobs=-1, verbose=verbose, scoring=scoring)\n",
    "    \n",
    "    bayes_search.fit(X_train, y_train)\n",
    "    \n",
    "    best_model = bayes_search.best_estimator_\n",
    "    \n",
    "    metrics = evaluate_model(best_model, X_test, y_test)\n",
    "    \n",
    "    for metric, value in metrics.items():\n",
    "        print(f\"{metric}: {value}\")\n",
    "        \n",
    "    return best_model, metrics\n",
    "    "
   ]
  },
  {
   "cell_type": "code",
   "execution_count": null,
   "id": "e194ec6bdfee78b0",
   "metadata": {
    "ExecuteTime": {
     "end_time": "2024-12-06T11:46:29.589176Z",
     "start_time": "2024-12-06T11:46:29.584860Z"
    }
   },
   "outputs": [],
   "source": [
    "def find_best_features_random_forest(df, param_grid= None, scoring=\"f1\"):\n",
    "    X = df.drop(columns=['health_ins'])\n",
    "    y = df['health_ins']\n",
    "    # X_train, X_test, y_train, y_test = train_test_split(X, y, test_size=0.3)\n",
    "    \n",
    "    rfc_model = RandomForestClassifier()  # You can adjust n_estimators\n",
    "\n",
    "    rfc_model, rfc_metrics = train_model(model = rfc_model, X = X , y = y, param_grid = param_grid, scoring = scoring)\n",
    "        \n",
    "        \n",
    "    importance = rfc_model.feature_importances_\n",
    "\n",
    "    features = X.columns\n",
    "    \n",
    "    \n",
    "    pair_features_scores = dict()\n",
    "\n",
    "    for i,v in enumerate(importance):\n",
    "     pair_features_scores[features[i]] = v\n",
    "     \n",
    "    final_features = [(key, value) for key, value in pair_features_scores.items() if value >= 0.025]\n",
    "    \n",
    "    return final_features"
   ]
  },
  {
   "cell_type": "code",
   "execution_count": 5,
   "id": "e37a13571e316da1",
   "metadata": {
    "ExecuteTime": {
     "end_time": "2024-12-06T11:46:54.647431Z",
     "start_time": "2024-12-06T11:46:54.642828Z"
    }
   },
   "outputs": [],
   "source": [
    "def find_best_features_pca(df, n_components):\n",
    "    X = df.drop(columns=['health_ins'])\n",
    "    y = df['health_ins']\n",
    "    \n",
    "    \n",
    "    pca = PCA(n_components=n_components)\n",
    "    \n",
    "    pca_names = [f\"PCA{i}\" for i in range(n_components)]\n",
    "    \n",
    "    principal_components = pca.fit_transform(X)\n",
    "    \n",
    "    pca_df = pd.DataFrame(data=principal_components, columns=pca_names)\n",
    "    \n",
    "    new_df = pd.concat([pca_df, y], axis=1)\n",
    "    \n",
    "    return new_df"
   ]
  },
  {
   "cell_type": "code",
   "execution_count": 6,
   "id": "fe080165ff611bd8",
   "metadata": {
    "ExecuteTime": {
     "end_time": "2024-12-06T11:46:55.096681Z",
     "start_time": "2024-12-06T11:46:55.094095Z"
    }
   },
   "outputs": [],
   "source": [
    "def apply_smote(df, test_size=0.3):\n",
    "    \n",
    "    sm = SMOTE()\n",
    "    X = df.drop(columns=['health_ins'])\n",
    "    y = df['health_ins']\n",
    "    \n",
    "    X_sm, y_sm = sm.fit_resample(X, y)\n",
    "    return X_sm, y_sm\n",
    "    \n",
    "    "
   ]
  },
  {
   "cell_type": "markdown",
   "id": "2b5ec400b0ddd7c5",
   "metadata": {},
   "source": [
    "# First Dataset\n"
   ]
  },
  {
   "cell_type": "code",
   "execution_count": 7,
   "id": "5f53934e",
   "metadata": {},
   "outputs": [],
   "source": [
    "dfs = [pd.read_csv(f'dfs_processed/processed_df_{i}.csv') for i in range(4)]\n"
   ]
  },
  {
   "cell_type": "code",
   "execution_count": 8,
   "id": "578e9a7e6dbb30db",
   "metadata": {
    "ExecuteTime": {
     "end_time": "2024-12-06T11:47:05.207117Z",
     "start_time": "2024-12-06T11:47:05.152551Z"
    }
   },
   "outputs": [
    {
     "data": {
      "text/html": [
       "<div>\n",
       "<style scoped>\n",
       "    .dataframe tbody tr th:only-of-type {\n",
       "        vertical-align: middle;\n",
       "    }\n",
       "\n",
       "    .dataframe tbody tr th {\n",
       "        vertical-align: top;\n",
       "    }\n",
       "\n",
       "    .dataframe thead th {\n",
       "        text-align: right;\n",
       "    }\n",
       "</style>\n",
       "<table border=\"1\" class=\"dataframe\">\n",
       "  <thead>\n",
       "    <tr style=\"text-align: right;\">\n",
       "      <th></th>\n",
       "      <th>PCA0</th>\n",
       "      <th>PCA1</th>\n",
       "      <th>PCA2</th>\n",
       "      <th>PCA3</th>\n",
       "      <th>PCA4</th>\n",
       "      <th>PCA5</th>\n",
       "      <th>PCA6</th>\n",
       "      <th>health_ins</th>\n",
       "    </tr>\n",
       "  </thead>\n",
       "  <tbody>\n",
       "    <tr>\n",
       "      <th>0</th>\n",
       "      <td>-20633.575991</td>\n",
       "      <td>-2224.764775</td>\n",
       "      <td>167.314170</td>\n",
       "      <td>-0.497100</td>\n",
       "      <td>2.463671</td>\n",
       "      <td>-0.025793</td>\n",
       "      <td>-0.982368</td>\n",
       "      <td>True</td>\n",
       "    </tr>\n",
       "    <tr>\n",
       "      <th>1</th>\n",
       "      <td>-19433.590909</td>\n",
       "      <td>-2225.423261</td>\n",
       "      <td>-42.791875</td>\n",
       "      <td>2.505370</td>\n",
       "      <td>2.427334</td>\n",
       "      <td>0.386913</td>\n",
       "      <td>0.534435</td>\n",
       "      <td>True</td>\n",
       "    </tr>\n",
       "    <tr>\n",
       "      <th>2</th>\n",
       "      <td>-21633.587302</td>\n",
       "      <td>-2223.574189</td>\n",
       "      <td>-2.597009</td>\n",
       "      <td>-0.507951</td>\n",
       "      <td>-0.453080</td>\n",
       "      <td>-1.324238</td>\n",
       "      <td>0.482520</td>\n",
       "      <td>True</td>\n",
       "    </tr>\n",
       "    <tr>\n",
       "      <th>3</th>\n",
       "      <td>-4863.588251</td>\n",
       "      <td>-2238.384712</td>\n",
       "      <td>76.212905</td>\n",
       "      <td>-1.501036</td>\n",
       "      <td>1.108796</td>\n",
       "      <td>-0.768835</td>\n",
       "      <td>0.668115</td>\n",
       "      <td>True</td>\n",
       "    </tr>\n",
       "    <tr>\n",
       "      <th>4</th>\n",
       "      <td>-3633.596981</td>\n",
       "      <td>-2239.236848</td>\n",
       "      <td>-43.901306</td>\n",
       "      <td>-1.500478</td>\n",
       "      <td>0.550156</td>\n",
       "      <td>1.058972</td>\n",
       "      <td>-0.785114</td>\n",
       "      <td>True</td>\n",
       "    </tr>\n",
       "  </tbody>\n",
       "</table>\n",
       "</div>"
      ],
      "text/plain": [
       "           PCA0         PCA1        PCA2      PCA3      PCA4      PCA5  \\\n",
       "0 -20633.575991 -2224.764775  167.314170 -0.497100  2.463671 -0.025793   \n",
       "1 -19433.590909 -2225.423261  -42.791875  2.505370  2.427334  0.386913   \n",
       "2 -21633.587302 -2223.574189   -2.597009 -0.507951 -0.453080 -1.324238   \n",
       "3  -4863.588251 -2238.384712   76.212905 -1.501036  1.108796 -0.768835   \n",
       "4  -3633.596981 -2239.236848  -43.901306 -1.500478  0.550156  1.058972   \n",
       "\n",
       "       PCA6  health_ins  \n",
       "0 -0.982368        True  \n",
       "1  0.534435        True  \n",
       "2  0.482520        True  \n",
       "3  0.668115        True  \n",
       "4 -0.785114        True  "
      ]
     },
     "execution_count": 8,
     "metadata": {},
     "output_type": "execute_result"
    }
   ],
   "source": [
    "new_df_0 = find_best_features_pca(dfs[0], 7)\n",
    "new_df_0.head()"
   ]
  },
  {
   "cell_type": "markdown",
   "id": "e62e56d18c3d1284",
   "metadata": {},
   "source": [
    "## Apply SMOTE"
   ]
  },
  {
   "cell_type": "code",
   "execution_count": 9,
   "id": "560fea25ef98b5a3",
   "metadata": {
    "ExecuteTime": {
     "end_time": "2024-12-06T11:47:07.345747Z",
     "start_time": "2024-12-06T11:47:07.310086Z"
    }
   },
   "outputs": [],
   "source": [
    "X_sm, y_sm = apply_smote(new_df_0)"
   ]
  },
  {
   "cell_type": "markdown",
   "id": "3dca9f2f9d2ff8a5",
   "metadata": {},
   "source": [
    "## Train forest"
   ]
  },
  {
   "cell_type": "code",
   "execution_count": 48,
   "id": "8eb39e193d3ee37c",
   "metadata": {
    "ExecuteTime": {
     "end_time": "2024-12-06T11:47:34.184470Z",
     "start_time": "2024-12-06T11:47:13.576200Z"
    }
   },
   "outputs": [
    {
     "name": "stdout",
     "output_type": "stream",
     "text": [
      "ok\n",
      "accuracy: 0.9243083618277899\n",
      "precision: 0.9151358736906027\n",
      "recall: 0.9355890113301257\n",
      "f1_score: 0.9252494244052187\n",
      "specifity: 0.9129961089494163\n",
      "confusion_matrix: [[17598  1677]\n",
      " [ 1245 18084]]\n"
     ]
    }
   ],
   "source": [
    "rfc_model = RandomForestClassifier(n_estimators=100)\n",
    "\n",
    "rfc_model = train_model(model = rfc_model, X = X_sm, y = y_sm)\n"
   ]
  },
  {
   "cell_type": "markdown",
   "id": "825b7f109b164f2f",
   "metadata": {},
   "source": [
    "## Kaggle"
   ]
  },
  {
   "cell_type": "code",
   "execution_count": 56,
   "id": "ff291595563ff623",
   "metadata": {
    "ExecuteTime": {
     "end_time": "2024-12-06T12:11:55.821549Z",
     "start_time": "2024-12-06T12:11:55.766851Z"
    }
   },
   "outputs": [
    {
     "data": {
      "text/html": [
       "<div>\n",
       "<style scoped>\n",
       "    .dataframe tbody tr th:only-of-type {\n",
       "        vertical-align: middle;\n",
       "    }\n",
       "\n",
       "    .dataframe tbody tr th {\n",
       "        vertical-align: top;\n",
       "    }\n",
       "\n",
       "    .dataframe thead th {\n",
       "        text-align: right;\n",
       "    }\n",
       "</style>\n",
       "<table border=\"1\" class=\"dataframe\">\n",
       "  <thead>\n",
       "    <tr style=\"text-align: right;\">\n",
       "      <th></th>\n",
       "      <th>is_employed</th>\n",
       "      <th>income</th>\n",
       "      <th>num_vehicles</th>\n",
       "      <th>age</th>\n",
       "      <th>code_column</th>\n",
       "      <th>rooms</th>\n",
       "      <th>recent_move_b</th>\n",
       "      <th>gas_payment</th>\n",
       "      <th>gas_bill</th>\n",
       "      <th>sex_Female</th>\n",
       "      <th>...</th>\n",
       "      <th>state_of_res_South Dakota</th>\n",
       "      <th>state_of_res_Tennessee</th>\n",
       "      <th>state_of_res_Texas</th>\n",
       "      <th>state_of_res_Utah</th>\n",
       "      <th>state_of_res_Virginia</th>\n",
       "      <th>state_of_res_Washington</th>\n",
       "      <th>state_of_res_West Virginia</th>\n",
       "      <th>state_of_res_Wisconsin</th>\n",
       "      <th>state_of_res_Wyoming</th>\n",
       "      <th>health_ins</th>\n",
       "    </tr>\n",
       "  </thead>\n",
       "  <tbody>\n",
       "    <tr>\n",
       "      <th>0</th>\n",
       "      <td>False</td>\n",
       "      <td>28900.0</td>\n",
       "      <td>1.0</td>\n",
       "      <td>0.059110</td>\n",
       "      <td>653</td>\n",
       "      <td>6</td>\n",
       "      <td>False</td>\n",
       "      <td>0.0</td>\n",
       "      <td>20.0</td>\n",
       "      <td>0.0</td>\n",
       "      <td>...</td>\n",
       "      <td>0.0</td>\n",
       "      <td>0.0</td>\n",
       "      <td>0.0</td>\n",
       "      <td>0.0</td>\n",
       "      <td>0.0</td>\n",
       "      <td>0.0</td>\n",
       "      <td>0.0</td>\n",
       "      <td>0.0</td>\n",
       "      <td>0.0</td>\n",
       "      <td>NaN</td>\n",
       "    </tr>\n",
       "    <tr>\n",
       "      <th>1</th>\n",
       "      <td>False</td>\n",
       "      <td>40000.0</td>\n",
       "      <td>1.0</td>\n",
       "      <td>0.030914</td>\n",
       "      <td>404</td>\n",
       "      <td>5</td>\n",
       "      <td>True</td>\n",
       "      <td>0.0</td>\n",
       "      <td>40.0</td>\n",
       "      <td>0.0</td>\n",
       "      <td>...</td>\n",
       "      <td>0.0</td>\n",
       "      <td>0.0</td>\n",
       "      <td>0.0</td>\n",
       "      <td>0.0</td>\n",
       "      <td>0.0</td>\n",
       "      <td>0.0</td>\n",
       "      <td>0.0</td>\n",
       "      <td>0.0</td>\n",
       "      <td>0.0</td>\n",
       "      <td>NaN</td>\n",
       "    </tr>\n",
       "    <tr>\n",
       "      <th>2</th>\n",
       "      <td>False</td>\n",
       "      <td>203000.0</td>\n",
       "      <td>3.0</td>\n",
       "      <td>0.131355</td>\n",
       "      <td>1291</td>\n",
       "      <td>2</td>\n",
       "      <td>False</td>\n",
       "      <td>0.0</td>\n",
       "      <td>80.0</td>\n",
       "      <td>1.0</td>\n",
       "      <td>...</td>\n",
       "      <td>0.0</td>\n",
       "      <td>0.0</td>\n",
       "      <td>0.0</td>\n",
       "      <td>0.0</td>\n",
       "      <td>0.0</td>\n",
       "      <td>0.0</td>\n",
       "      <td>0.0</td>\n",
       "      <td>0.0</td>\n",
       "      <td>0.0</td>\n",
       "      <td>NaN</td>\n",
       "    </tr>\n",
       "    <tr>\n",
       "      <th>3</th>\n",
       "      <td>False</td>\n",
       "      <td>0.0</td>\n",
       "      <td>1.0</td>\n",
       "      <td>1.000000</td>\n",
       "      <td>8962</td>\n",
       "      <td>2</td>\n",
       "      <td>False</td>\n",
       "      <td>0.0</td>\n",
       "      <td>30.0</td>\n",
       "      <td>1.0</td>\n",
       "      <td>...</td>\n",
       "      <td>0.0</td>\n",
       "      <td>0.0</td>\n",
       "      <td>0.0</td>\n",
       "      <td>0.0</td>\n",
       "      <td>0.0</td>\n",
       "      <td>0.0</td>\n",
       "      <td>0.0</td>\n",
       "      <td>0.0</td>\n",
       "      <td>0.0</td>\n",
       "      <td>NaN</td>\n",
       "    </tr>\n",
       "    <tr>\n",
       "      <th>4</th>\n",
       "      <td>False</td>\n",
       "      <td>40000.0</td>\n",
       "      <td>4.0</td>\n",
       "      <td>0.218322</td>\n",
       "      <td>2059</td>\n",
       "      <td>1</td>\n",
       "      <td>False</td>\n",
       "      <td>0.0</td>\n",
       "      <td>150.0</td>\n",
       "      <td>0.0</td>\n",
       "      <td>...</td>\n",
       "      <td>0.0</td>\n",
       "      <td>0.0</td>\n",
       "      <td>0.0</td>\n",
       "      <td>0.0</td>\n",
       "      <td>0.0</td>\n",
       "      <td>0.0</td>\n",
       "      <td>0.0</td>\n",
       "      <td>0.0</td>\n",
       "      <td>0.0</td>\n",
       "      <td>NaN</td>\n",
       "    </tr>\n",
       "  </tbody>\n",
       "</table>\n",
       "<p>5 rows × 69 columns</p>\n",
       "</div>"
      ],
      "text/plain": [
       "   is_employed    income  num_vehicles       age  code_column  rooms  \\\n",
       "0        False   28900.0           1.0  0.059110          653      6   \n",
       "1        False   40000.0           1.0  0.030914          404      5   \n",
       "2        False  203000.0           3.0  0.131355         1291      2   \n",
       "3        False       0.0           1.0  1.000000         8962      2   \n",
       "4        False   40000.0           4.0  0.218322         2059      1   \n",
       "\n",
       "   recent_move_b  gas_payment  gas_bill  sex_Female  ...  \\\n",
       "0          False          0.0      20.0         0.0  ...   \n",
       "1           True          0.0      40.0         0.0  ...   \n",
       "2          False          0.0      80.0         1.0  ...   \n",
       "3          False          0.0      30.0         1.0  ...   \n",
       "4          False          0.0     150.0         0.0  ...   \n",
       "\n",
       "   state_of_res_South Dakota  state_of_res_Tennessee  state_of_res_Texas  \\\n",
       "0                        0.0                     0.0                 0.0   \n",
       "1                        0.0                     0.0                 0.0   \n",
       "2                        0.0                     0.0                 0.0   \n",
       "3                        0.0                     0.0                 0.0   \n",
       "4                        0.0                     0.0                 0.0   \n",
       "\n",
       "   state_of_res_Utah  state_of_res_Virginia  state_of_res_Washington  \\\n",
       "0                0.0                    0.0                      0.0   \n",
       "1                0.0                    0.0                      0.0   \n",
       "2                0.0                    0.0                      0.0   \n",
       "3                0.0                    0.0                      0.0   \n",
       "4                0.0                    0.0                      0.0   \n",
       "\n",
       "   state_of_res_West Virginia  state_of_res_Wisconsin  state_of_res_Wyoming  \\\n",
       "0                         0.0                     0.0                   0.0   \n",
       "1                         0.0                     0.0                   0.0   \n",
       "2                         0.0                     0.0                   0.0   \n",
       "3                         0.0                     0.0                   0.0   \n",
       "4                         0.0                     0.0                   0.0   \n",
       "\n",
       "   health_ins  \n",
       "0         NaN  \n",
       "1         NaN  \n",
       "2         NaN  \n",
       "3         NaN  \n",
       "4         NaN  \n",
       "\n",
       "[5 rows x 69 columns]"
      ]
     },
     "execution_count": 56,
     "metadata": {},
     "output_type": "execute_result"
    }
   ],
   "source": [
    "kaggle_df = pd.read_csv(\"dfs_kaggle/df_normal.csv\")\n",
    "kaggle_df['health_ins'] = np.nan\n",
    "kaggle_df.head()"
   ]
  },
  {
   "cell_type": "code",
   "execution_count": null,
   "id": "561af1fbbb592930",
   "metadata": {},
   "outputs": [],
   "source": []
  },
  {
   "cell_type": "code",
   "execution_count": null,
   "id": "1dbdbcec01966a84",
   "metadata": {},
   "outputs": [],
   "source": []
  },
  {
   "cell_type": "code",
   "execution_count": null,
   "id": "9f1fa78c8508c0f2",
   "metadata": {},
   "outputs": [],
   "source": []
  },
  {
   "cell_type": "code",
   "execution_count": null,
   "id": "efa47fc37183bc6a",
   "metadata": {},
   "outputs": [],
   "source": []
  },
  {
   "cell_type": "code",
   "execution_count": null,
   "id": "e9c34d98b883e32e",
   "metadata": {},
   "outputs": [],
   "source": []
  },
  {
   "cell_type": "code",
   "execution_count": null,
   "id": "a9c4bffa2eed4b32",
   "metadata": {},
   "outputs": [],
   "source": []
  },
  {
   "cell_type": "code",
   "execution_count": null,
   "id": "75d1abe3f70919d8",
   "metadata": {},
   "outputs": [],
   "source": []
  },
  {
   "cell_type": "code",
   "execution_count": null,
   "id": "b0ff030771a7f421",
   "metadata": {},
   "outputs": [],
   "source": []
  },
  {
   "cell_type": "code",
   "execution_count": null,
   "id": "ede1aed73fad722",
   "metadata": {},
   "outputs": [],
   "source": []
  }
 ],
 "metadata": {
  "kernelspec": {
   "display_name": "IAP2",
   "language": "python",
   "name": "python3"
  },
  "language_info": {
   "codemirror_mode": {
    "name": "ipython",
    "version": 3
   },
   "file_extension": ".py",
   "mimetype": "text/x-python",
   "name": "python",
   "nbconvert_exporter": "python",
   "pygments_lexer": "ipython3",
   "version": "3.12.3"
  }
 },
 "nbformat": 4,
 "nbformat_minor": 5
}
