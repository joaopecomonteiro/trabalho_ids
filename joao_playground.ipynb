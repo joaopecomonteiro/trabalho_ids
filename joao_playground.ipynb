{
 "cells": [
  {
   "cell_type": "code",
   "id": "initial_id",
   "metadata": {
    "collapsed": true,
    "ExecuteTime": {
     "end_time": "2024-10-18T11:34:52.633649Z",
     "start_time": "2024-10-18T11:34:52.135746Z"
    }
   },
   "source": [
    "import pandas as pd\n",
    "import numpy as np\n",
    "import matplotlib.pyplot as plt"
   ],
   "outputs": [],
   "execution_count": 1
  },
  {
   "metadata": {
    "ExecuteTime": {
     "end_time": "2024-10-18T11:34:55.698482Z",
     "start_time": "2024-10-18T11:34:55.615269Z"
    }
   },
   "cell_type": "code",
   "source": [
    "data = pd.read_csv('customer.csv')\n",
    "data.head()"
   ],
   "id": "d371dac728e1ffc4",
   "outputs": [
    {
     "data": {
      "text/plain": [
       "   Unnamed: 0        custid     sex is_employed   income      marital_status  \\\n",
       "0           7  000006646_03    Male        True  22000.0       Never married   \n",
       "1           8  000007827_01  Female         NaN  23200.0  Divorced/Separated   \n",
       "2           9  000008359_04  Female        True  21000.0       Never married   \n",
       "3          10  000008529_01  Female         NaN  37770.0             Widowed   \n",
       "4          11  000008744_02    Male        True  39000.0  Divorced/Separated   \n",
       "\n",
       "   health_ins                  housing_type  num_vehicles  age state_of_res  \\\n",
       "0        True      Homeowner free and clear           0.0   24      Alabama   \n",
       "1        True                        Rented           0.0   82      Alabama   \n",
       "2        True  Homeowner with mortgage/loan           2.0   31      Alabama   \n",
       "3        True      Homeowner free and clear           1.0   93      Alabama   \n",
       "4        True                        Rented           2.0   67      Alabama   \n",
       "\n",
       "   code_column  gas_usage  rooms recent_move_b  \n",
       "0         1047      210.0      3             F  \n",
       "1         1047        3.0      6             T  \n",
       "2         1047       40.0      3             F  \n",
       "3         1047      120.0      2             F  \n",
       "4         1047        3.0      2             F  "
      ],
      "text/html": [
       "<div>\n",
       "<style scoped>\n",
       "    .dataframe tbody tr th:only-of-type {\n",
       "        vertical-align: middle;\n",
       "    }\n",
       "\n",
       "    .dataframe tbody tr th {\n",
       "        vertical-align: top;\n",
       "    }\n",
       "\n",
       "    .dataframe thead th {\n",
       "        text-align: right;\n",
       "    }\n",
       "</style>\n",
       "<table border=\"1\" class=\"dataframe\">\n",
       "  <thead>\n",
       "    <tr style=\"text-align: right;\">\n",
       "      <th></th>\n",
       "      <th>Unnamed: 0</th>\n",
       "      <th>custid</th>\n",
       "      <th>sex</th>\n",
       "      <th>is_employed</th>\n",
       "      <th>income</th>\n",
       "      <th>marital_status</th>\n",
       "      <th>health_ins</th>\n",
       "      <th>housing_type</th>\n",
       "      <th>num_vehicles</th>\n",
       "      <th>age</th>\n",
       "      <th>state_of_res</th>\n",
       "      <th>code_column</th>\n",
       "      <th>gas_usage</th>\n",
       "      <th>rooms</th>\n",
       "      <th>recent_move_b</th>\n",
       "    </tr>\n",
       "  </thead>\n",
       "  <tbody>\n",
       "    <tr>\n",
       "      <th>0</th>\n",
       "      <td>7</td>\n",
       "      <td>000006646_03</td>\n",
       "      <td>Male</td>\n",
       "      <td>True</td>\n",
       "      <td>22000.0</td>\n",
       "      <td>Never married</td>\n",
       "      <td>True</td>\n",
       "      <td>Homeowner free and clear</td>\n",
       "      <td>0.0</td>\n",
       "      <td>24</td>\n",
       "      <td>Alabama</td>\n",
       "      <td>1047</td>\n",
       "      <td>210.0</td>\n",
       "      <td>3</td>\n",
       "      <td>F</td>\n",
       "    </tr>\n",
       "    <tr>\n",
       "      <th>1</th>\n",
       "      <td>8</td>\n",
       "      <td>000007827_01</td>\n",
       "      <td>Female</td>\n",
       "      <td>NaN</td>\n",
       "      <td>23200.0</td>\n",
       "      <td>Divorced/Separated</td>\n",
       "      <td>True</td>\n",
       "      <td>Rented</td>\n",
       "      <td>0.0</td>\n",
       "      <td>82</td>\n",
       "      <td>Alabama</td>\n",
       "      <td>1047</td>\n",
       "      <td>3.0</td>\n",
       "      <td>6</td>\n",
       "      <td>T</td>\n",
       "    </tr>\n",
       "    <tr>\n",
       "      <th>2</th>\n",
       "      <td>9</td>\n",
       "      <td>000008359_04</td>\n",
       "      <td>Female</td>\n",
       "      <td>True</td>\n",
       "      <td>21000.0</td>\n",
       "      <td>Never married</td>\n",
       "      <td>True</td>\n",
       "      <td>Homeowner with mortgage/loan</td>\n",
       "      <td>2.0</td>\n",
       "      <td>31</td>\n",
       "      <td>Alabama</td>\n",
       "      <td>1047</td>\n",
       "      <td>40.0</td>\n",
       "      <td>3</td>\n",
       "      <td>F</td>\n",
       "    </tr>\n",
       "    <tr>\n",
       "      <th>3</th>\n",
       "      <td>10</td>\n",
       "      <td>000008529_01</td>\n",
       "      <td>Female</td>\n",
       "      <td>NaN</td>\n",
       "      <td>37770.0</td>\n",
       "      <td>Widowed</td>\n",
       "      <td>True</td>\n",
       "      <td>Homeowner free and clear</td>\n",
       "      <td>1.0</td>\n",
       "      <td>93</td>\n",
       "      <td>Alabama</td>\n",
       "      <td>1047</td>\n",
       "      <td>120.0</td>\n",
       "      <td>2</td>\n",
       "      <td>F</td>\n",
       "    </tr>\n",
       "    <tr>\n",
       "      <th>4</th>\n",
       "      <td>11</td>\n",
       "      <td>000008744_02</td>\n",
       "      <td>Male</td>\n",
       "      <td>True</td>\n",
       "      <td>39000.0</td>\n",
       "      <td>Divorced/Separated</td>\n",
       "      <td>True</td>\n",
       "      <td>Rented</td>\n",
       "      <td>2.0</td>\n",
       "      <td>67</td>\n",
       "      <td>Alabama</td>\n",
       "      <td>1047</td>\n",
       "      <td>3.0</td>\n",
       "      <td>2</td>\n",
       "      <td>F</td>\n",
       "    </tr>\n",
       "  </tbody>\n",
       "</table>\n",
       "</div>"
      ]
     },
     "execution_count": 3,
     "metadata": {},
     "output_type": "execute_result"
    }
   ],
   "execution_count": 3
  },
  {
   "metadata": {
    "ExecuteTime": {
     "end_time": "2024-10-18T11:34:57.360539Z",
     "start_time": "2024-10-18T11:34:57.339840Z"
    }
   },
   "cell_type": "code",
   "source": [
    "data.drop(\"Unnamed: 0\", axis=1, inplace=True)\n",
    "data.drop(\"custid\", axis=1, inplace=True)\n",
    "data.head()"
   ],
   "id": "2d489529af84604d",
   "outputs": [
    {
     "data": {
      "text/plain": [
       "      sex is_employed   income      marital_status  health_ins  \\\n",
       "0    Male        True  22000.0       Never married        True   \n",
       "1  Female         NaN  23200.0  Divorced/Separated        True   \n",
       "2  Female        True  21000.0       Never married        True   \n",
       "3  Female         NaN  37770.0             Widowed        True   \n",
       "4    Male        True  39000.0  Divorced/Separated        True   \n",
       "\n",
       "                   housing_type  num_vehicles  age state_of_res  code_column  \\\n",
       "0      Homeowner free and clear           0.0   24      Alabama         1047   \n",
       "1                        Rented           0.0   82      Alabama         1047   \n",
       "2  Homeowner with mortgage/loan           2.0   31      Alabama         1047   \n",
       "3      Homeowner free and clear           1.0   93      Alabama         1047   \n",
       "4                        Rented           2.0   67      Alabama         1047   \n",
       "\n",
       "   gas_usage  rooms recent_move_b  \n",
       "0      210.0      3             F  \n",
       "1        3.0      6             T  \n",
       "2       40.0      3             F  \n",
       "3      120.0      2             F  \n",
       "4        3.0      2             F  "
      ],
      "text/html": [
       "<div>\n",
       "<style scoped>\n",
       "    .dataframe tbody tr th:only-of-type {\n",
       "        vertical-align: middle;\n",
       "    }\n",
       "\n",
       "    .dataframe tbody tr th {\n",
       "        vertical-align: top;\n",
       "    }\n",
       "\n",
       "    .dataframe thead th {\n",
       "        text-align: right;\n",
       "    }\n",
       "</style>\n",
       "<table border=\"1\" class=\"dataframe\">\n",
       "  <thead>\n",
       "    <tr style=\"text-align: right;\">\n",
       "      <th></th>\n",
       "      <th>sex</th>\n",
       "      <th>is_employed</th>\n",
       "      <th>income</th>\n",
       "      <th>marital_status</th>\n",
       "      <th>health_ins</th>\n",
       "      <th>housing_type</th>\n",
       "      <th>num_vehicles</th>\n",
       "      <th>age</th>\n",
       "      <th>state_of_res</th>\n",
       "      <th>code_column</th>\n",
       "      <th>gas_usage</th>\n",
       "      <th>rooms</th>\n",
       "      <th>recent_move_b</th>\n",
       "    </tr>\n",
       "  </thead>\n",
       "  <tbody>\n",
       "    <tr>\n",
       "      <th>0</th>\n",
       "      <td>Male</td>\n",
       "      <td>True</td>\n",
       "      <td>22000.0</td>\n",
       "      <td>Never married</td>\n",
       "      <td>True</td>\n",
       "      <td>Homeowner free and clear</td>\n",
       "      <td>0.0</td>\n",
       "      <td>24</td>\n",
       "      <td>Alabama</td>\n",
       "      <td>1047</td>\n",
       "      <td>210.0</td>\n",
       "      <td>3</td>\n",
       "      <td>F</td>\n",
       "    </tr>\n",
       "    <tr>\n",
       "      <th>1</th>\n",
       "      <td>Female</td>\n",
       "      <td>NaN</td>\n",
       "      <td>23200.0</td>\n",
       "      <td>Divorced/Separated</td>\n",
       "      <td>True</td>\n",
       "      <td>Rented</td>\n",
       "      <td>0.0</td>\n",
       "      <td>82</td>\n",
       "      <td>Alabama</td>\n",
       "      <td>1047</td>\n",
       "      <td>3.0</td>\n",
       "      <td>6</td>\n",
       "      <td>T</td>\n",
       "    </tr>\n",
       "    <tr>\n",
       "      <th>2</th>\n",
       "      <td>Female</td>\n",
       "      <td>True</td>\n",
       "      <td>21000.0</td>\n",
       "      <td>Never married</td>\n",
       "      <td>True</td>\n",
       "      <td>Homeowner with mortgage/loan</td>\n",
       "      <td>2.0</td>\n",
       "      <td>31</td>\n",
       "      <td>Alabama</td>\n",
       "      <td>1047</td>\n",
       "      <td>40.0</td>\n",
       "      <td>3</td>\n",
       "      <td>F</td>\n",
       "    </tr>\n",
       "    <tr>\n",
       "      <th>3</th>\n",
       "      <td>Female</td>\n",
       "      <td>NaN</td>\n",
       "      <td>37770.0</td>\n",
       "      <td>Widowed</td>\n",
       "      <td>True</td>\n",
       "      <td>Homeowner free and clear</td>\n",
       "      <td>1.0</td>\n",
       "      <td>93</td>\n",
       "      <td>Alabama</td>\n",
       "      <td>1047</td>\n",
       "      <td>120.0</td>\n",
       "      <td>2</td>\n",
       "      <td>F</td>\n",
       "    </tr>\n",
       "    <tr>\n",
       "      <th>4</th>\n",
       "      <td>Male</td>\n",
       "      <td>True</td>\n",
       "      <td>39000.0</td>\n",
       "      <td>Divorced/Separated</td>\n",
       "      <td>True</td>\n",
       "      <td>Rented</td>\n",
       "      <td>2.0</td>\n",
       "      <td>67</td>\n",
       "      <td>Alabama</td>\n",
       "      <td>1047</td>\n",
       "      <td>3.0</td>\n",
       "      <td>2</td>\n",
       "      <td>F</td>\n",
       "    </tr>\n",
       "  </tbody>\n",
       "</table>\n",
       "</div>"
      ]
     },
     "execution_count": 4,
     "metadata": {},
     "output_type": "execute_result"
    }
   ],
   "execution_count": 4
  },
  {
   "metadata": {
    "ExecuteTime": {
     "end_time": "2024-10-18T11:34:58.787005Z",
     "start_time": "2024-10-18T11:34:58.775190Z"
    }
   },
   "cell_type": "code",
   "source": [
    "patients = data.shape[0]\n",
    "features = data.shape[1] - 1 \n",
    "\n",
    "not_insured = len(data[data.health_ins == False])\n",
    "insured = len(data[data.health_ins == True])\n",
    "val = [not_insured, insured]\n",
    "\n",
    "percentage_not_insured = (float(not_insured)/patients) * 100\n",
    "percentage_insured = (float(insured)/patients) * 100\n",
    "\n",
    "print(f'Total of patients:{patients}')\n",
    "print(f'Total of columns:{features}')\n",
    "print(f'Total of patients not insured:{percentage_not_insured}({percentage_not_insured:.2f}%)')\n",
    "print(f'Total of patients insured:{percentage_insured}({percentage_insured:.2f}%)')"
   ],
   "id": "86ae471dab3d71b5",
   "outputs": [
    {
     "name": "stdout",
     "output_type": "stream",
     "text": [
      "Total of patients:72458\n",
      "Total of columns:12\n",
      "Total of patients not insured:9.529658560821442(9.53%)\n",
      "Total of patients insured:90.47034143917855(90.47%)\n"
     ]
    }
   ],
   "execution_count": 5
  },
  {
   "metadata": {
    "ExecuteTime": {
     "end_time": "2024-10-18T11:35:00.561196Z",
     "start_time": "2024-10-18T11:35:00.516383Z"
    }
   },
   "cell_type": "code",
   "source": [
    "plt.pie(val, labels=[\"Not Insured\", \"Insured\"], autopct='%1.1f%%', startangle=-90, colors=['#ff9999','#66b3ff'])\n",
    "# Equal aspect ratio ensures that pie is drawn as a circle\n",
    "plt.axis('equal')  \n",
    "plt.show()"
   ],
   "id": "5fda41852977d87f",
   "outputs": [
    {
     "data": {
      "text/plain": [
       "<Figure size 640x480 with 1 Axes>"
      ],
      "image/png": "[encoded data removed]"
     },
     "metadata": {},
     "output_type": "display_data"
    }
   ],
   "execution_count": 6
  },
  {
   "metadata": {
    "ExecuteTime": {
     "end_time": "2024-10-18T11:35:02.223657Z",
     "start_time": "2024-10-18T11:35:02.220018Z"
    }
   },
   "cell_type": "code",
   "source": "data.columns",
   "id": "189ac6df04a628bd",
   "outputs": [
    {
     "data": {
      "text/plain": [
       "Index(['sex', 'is_employed', 'income', 'marital_status', 'health_ins',\n",
       "       'housing_type', 'num_vehicles', 'age', 'state_of_res', 'code_column',\n",
       "       'gas_usage', 'rooms', 'recent_move_b'],\n",
       "      dtype='object')"
      ]
     },
     "execution_count": 7,
     "metadata": {},
     "output_type": "execute_result"
    }
   ],
   "execution_count": 7
  },
  {
   "metadata": {
    "ExecuteTime": {
     "end_time": "2024-10-18T11:35:03.802735Z",
     "start_time": "2024-10-18T11:35:03.784852Z"
    }
   },
   "cell_type": "code",
   "source": "data.isna().sum()",
   "id": "3ef672427973fccc",
   "outputs": [
    {
     "data": {
      "text/plain": [
       "sex                   0\n",
       "is_employed       25515\n",
       "income                0\n",
       "marital_status        0\n",
       "health_ins            0\n",
       "housing_type       1686\n",
       "num_vehicles       1686\n",
       "age                   0\n",
       "state_of_res          0\n",
       "code_column           0\n",
       "gas_usage          1686\n",
       "rooms                 0\n",
       "recent_move_b      1687\n",
       "dtype: int64"
      ]
     },
     "execution_count": 8,
     "metadata": {},
     "output_type": "execute_result"
    }
   ],
   "execution_count": 8
  },
  {
   "metadata": {
    "ExecuteTime": {
     "end_time": "2024-10-18T11:35:07.511007Z",
     "start_time": "2024-10-18T11:35:07.501421Z"
    }
   },
   "cell_type": "code",
   "source": [
    "data['is_employed'] = data['is_employed'].fillna(False)\n",
    "data[\"is_employed\"].unique()"
   ],
   "id": "4e5c8626735df66",
   "outputs": [
    {
     "name": "stderr",
     "output_type": "stream",
     "text": [
      "/tmp/ipykernel_23185/299261139.py:1: FutureWarning: Downcasting object dtype arrays on .fillna, .ffill, .bfill is deprecated and will change in a future version. Call result.infer_objects(copy=False) instead. To opt-in to the future behavior, set `pd.set_option('future.no_silent_downcasting', True)`\n",
      "  data['is_employed'] = data['is_employed'].fillna(False)\n"
     ]
    },
    {
     "data": {
      "text/plain": [
       "array([ True, False])"
      ]
     },
     "execution_count": 9,
     "metadata": {},
     "output_type": "execute_result"
    }
   ],
   "execution_count": 9
  },
  {
   "metadata": {
    "ExecuteTime": {
     "end_time": "2024-10-18T11:35:09.635317Z",
     "start_time": "2024-10-18T11:35:09.620283Z"
    }
   },
   "cell_type": "code",
   "source": "data.isna().sum()",
   "id": "e8ff2331b7c1caec",
   "outputs": [
    {
     "data": {
      "text/plain": [
       "sex                  0\n",
       "is_employed          0\n",
       "income               0\n",
       "marital_status       0\n",
       "health_ins           0\n",
       "housing_type      1686\n",
       "num_vehicles      1686\n",
       "age                  0\n",
       "state_of_res         0\n",
       "code_column          0\n",
       "gas_usage         1686\n",
       "rooms                0\n",
       "recent_move_b     1687\n",
       "dtype: int64"
      ]
     },
     "execution_count": 10,
     "metadata": {},
     "output_type": "execute_result"
    }
   ],
   "execution_count": 10
  },
  {
   "metadata": {
    "ExecuteTime": {
     "end_time": "2024-10-18T11:35:11.955101Z",
     "start_time": "2024-10-18T11:35:11.931889Z"
    }
   },
   "cell_type": "code",
   "source": "data.dropna(inplace=True)",
   "id": "2c90cdd41acab72c",
   "outputs": [],
   "execution_count": 11
  },
  {
   "metadata": {
    "ExecuteTime": {
     "end_time": "2024-10-18T11:35:13.441572Z",
     "start_time": "2024-10-18T11:35:13.431444Z"
    }
   },
   "cell_type": "code",
   "source": "data",
   "id": "3873a2a810e9ba70",
   "outputs": [
    {
     "data": {
      "text/plain": [
       "          sex  is_employed   income      marital_status  health_ins  \\\n",
       "0        Male         True  22000.0       Never married        True   \n",
       "1      Female        False  23200.0  Divorced/Separated        True   \n",
       "2      Female         True  21000.0       Never married        True   \n",
       "3      Female        False  37770.0             Widowed        True   \n",
       "4        Male         True  39000.0  Divorced/Separated        True   \n",
       "...       ...          ...      ...                 ...         ...   \n",
       "72452  Female         True  85000.0             Married        True   \n",
       "72453  Female         True  18500.0       Never married       False   \n",
       "72454  Female        False  20800.0             Widowed        True   \n",
       "72455    Male         True  75000.0             Married        True   \n",
       "72456  Female         True  22200.0  Divorced/Separated       False   \n",
       "\n",
       "                       housing_type  num_vehicles  age state_of_res  \\\n",
       "0          Homeowner free and clear           0.0   24      Alabama   \n",
       "1                            Rented           0.0   82      Alabama   \n",
       "2      Homeowner with mortgage/loan           2.0   31      Alabama   \n",
       "3          Homeowner free and clear           1.0   93      Alabama   \n",
       "4                            Rented           2.0   67      Alabama   \n",
       "...                             ...           ...  ...          ...   \n",
       "72452  Homeowner with mortgage/loan           2.0   32      Wyoming   \n",
       "72453                        Rented           1.0   25      Wyoming   \n",
       "72454      Homeowner free and clear           1.0   86      Wyoming   \n",
       "72455  Homeowner with mortgage/loan           2.0   50      Wyoming   \n",
       "72456      Homeowner free and clear           1.0   61      Wyoming   \n",
       "\n",
       "       code_column  gas_usage  rooms recent_move_b  \n",
       "0             1047      210.0      3             F  \n",
       "1             1047        3.0      6             T  \n",
       "2             1047       40.0      3             F  \n",
       "3             1047      120.0      2             F  \n",
       "4             1047        3.0      2             F  \n",
       "...            ...        ...    ...           ...  \n",
       "72452          131       70.0      5             F  \n",
       "72453          131       10.0      4             F  \n",
       "72454          131      120.0      6             F  \n",
       "72455          131       90.0      3             F  \n",
       "72456          131       50.0      6             F  \n",
       "\n",
       "[70771 rows x 13 columns]"
      ],
      "text/html": [
       "<div>\n",
       "<style scoped>\n",
       "    .dataframe tbody tr th:only-of-type {\n",
       "        vertical-align: middle;\n",
       "    }\n",
       "\n",
       "    .dataframe tbody tr th {\n",
       "        vertical-align: top;\n",
       "    }\n",
       "\n",
       "    .dataframe thead th {\n",
       "        text-align: right;\n",
       "    }\n",
       "</style>\n",
       "<table border=\"1\" class=\"dataframe\">\n",
       "  <thead>\n",
       "    <tr style=\"text-align: right;\">\n",
       "      <th></th>\n",
       "      <th>sex</th>\n",
       "      <th>is_employed</th>\n",
       "      <th>income</th>\n",
       "      <th>marital_status</th>\n",
       "      <th>health_ins</th>\n",
       "      <th>housing_type</th>\n",
       "      <th>num_vehicles</th>\n",
       "      <th>age</th>\n",
       "      <th>state_of_res</th>\n",
       "      <th>code_column</th>\n",
       "      <th>gas_usage</th>\n",
       "      <th>rooms</th>\n",
       "      <th>recent_move_b</th>\n",
       "    </tr>\n",
       "  </thead>\n",
       "  <tbody>\n",
       "    <tr>\n",
       "      <th>0</th>\n",
       "      <td>Male</td>\n",
       "      <td>True</td>\n",
       "      <td>22000.0</td>\n",
       "      <td>Never married</td>\n",
       "      <td>True</td>\n",
       "      <td>Homeowner free and clear</td>\n",
       "      <td>0.0</td>\n",
       "      <td>24</td>\n",
       "      <td>Alabama</td>\n",
       "      <td>1047</td>\n",
       "      <td>210.0</td>\n",
       "      <td>3</td>\n",
       "      <td>F</td>\n",
       "    </tr>\n",
       "    <tr>\n",
       "      <th>1</th>\n",
       "      <td>Female</td>\n",
       "      <td>False</td>\n",
       "      <td>23200.0</td>\n",
       "      <td>Divorced/Separated</td>\n",
       "      <td>True</td>\n",
       "      <td>Rented</td>\n",
       "      <td>0.0</td>\n",
       "      <td>82</td>\n",
       "      <td>Alabama</td>\n",
       "      <td>1047</td>\n",
       "      <td>3.0</td>\n",
       "      <td>6</td>\n",
       "      <td>T</td>\n",
       "    </tr>\n",
       "    <tr>\n",
       "      <th>2</th>\n",
       "      <td>Female</td>\n",
       "      <td>True</td>\n",
       "      <td>21000.0</td>\n",
       "      <td>Never married</td>\n",
       "      <td>True</td>\n",
       "      <td>Homeowner with mortgage/loan</td>\n",
       "      <td>2.0</td>\n",
       "      <td>31</td>\n",
       "      <td>Alabama</td>\n",
       "      <td>1047</td>\n",
       "      <td>40.0</td>\n",
       "      <td>3</td>\n",
       "      <td>F</td>\n",
       "    </tr>\n",
       "    <tr>\n",
       "      <th>3</th>\n",
       "      <td>Female</td>\n",
       "      <td>False</td>\n",
       "      <td>37770.0</td>\n",
       "      <td>Widowed</td>\n",
       "      <td>True</td>\n",
       "      <td>Homeowner free and clear</td>\n",
       "      <td>1.0</td>\n",
       "      <td>93</td>\n",
       "      <td>Alabama</td>\n",
       "      <td>1047</td>\n",
       "      <td>120.0</td>\n",
       "      <td>2</td>\n",
       "      <td>F</td>\n",
       "    </tr>\n",
       "    <tr>\n",
       "      <th>4</th>\n",
       "      <td>Male</td>\n",
       "      <td>True</td>\n",
       "      <td>39000.0</td>\n",
       "      <td>Divorced/Separated</td>\n",
       "      <td>True</td>\n",
       "      <td>Rented</td>\n",
       "      <td>2.0</td>\n",
       "      <td>67</td>\n",
       "      <td>Alabama</td>\n",
       "      <td>1047</td>\n",
       "      <td>3.0</td>\n",
       "      <td>2</td>\n",
       "      <td>F</td>\n",
       "    </tr>\n",
       "    <tr>\n",
       "      <th>...</th>\n",
       "      <td>...</td>\n",
       "      <td>...</td>\n",
       "      <td>...</td>\n",
       "      <td>...</td>\n",
       "      <td>...</td>\n",
       "      <td>...</td>\n",
       "      <td>...</td>\n",
       "      <td>...</td>\n",
       "      <td>...</td>\n",
       "      <td>...</td>\n",
       "      <td>...</td>\n",
       "      <td>...</td>\n",
       "      <td>...</td>\n",
       "    </tr>\n",
       "    <tr>\n",
       "      <th>72452</th>\n",
       "      <td>Female</td>\n",
       "      <td>True</td>\n",
       "      <td>85000.0</td>\n",
       "      <td>Married</td>\n",
       "      <td>True</td>\n",
       "      <td>Homeowner with mortgage/loan</td>\n",
       "      <td>2.0</td>\n",
       "      <td>32</td>\n",
       "      <td>Wyoming</td>\n",
       "      <td>131</td>\n",
       "      <td>70.0</td>\n",
       "      <td>5</td>\n",
       "      <td>F</td>\n",
       "    </tr>\n",
       "    <tr>\n",
       "      <th>72453</th>\n",
       "      <td>Female</td>\n",
       "      <td>True</td>\n",
       "      <td>18500.0</td>\n",
       "      <td>Never married</td>\n",
       "      <td>False</td>\n",
       "      <td>Rented</td>\n",
       "      <td>1.0</td>\n",
       "      <td>25</td>\n",
       "      <td>Wyoming</td>\n",
       "      <td>131</td>\n",
       "      <td>10.0</td>\n",
       "      <td>4</td>\n",
       "      <td>F</td>\n",
       "    </tr>\n",
       "    <tr>\n",
       "      <th>72454</th>\n",
       "      <td>Female</td>\n",
       "      <td>False</td>\n",
       "      <td>20800.0</td>\n",
       "      <td>Widowed</td>\n",
       "      <td>True</td>\n",
       "      <td>Homeowner free and clear</td>\n",
       "      <td>1.0</td>\n",
       "      <td>86</td>\n",
       "      <td>Wyoming</td>\n",
       "      <td>131</td>\n",
       "      <td>120.0</td>\n",
       "      <td>6</td>\n",
       "      <td>F</td>\n",
       "    </tr>\n",
       "    <tr>\n",
       "      <th>72455</th>\n",
       "      <td>Male</td>\n",
       "      <td>True</td>\n",
       "      <td>75000.0</td>\n",
       "      <td>Married</td>\n",
       "      <td>True</td>\n",
       "      <td>Homeowner with mortgage/loan</td>\n",
       "      <td>2.0</td>\n",
       "      <td>50</td>\n",
       "      <td>Wyoming</td>\n",
       "      <td>131</td>\n",
       "      <td>90.0</td>\n",
       "      <td>3</td>\n",
       "      <td>F</td>\n",
       "    </tr>\n",
       "    <tr>\n",
       "      <th>72456</th>\n",
       "      <td>Female</td>\n",
       "      <td>True</td>\n",
       "      <td>22200.0</td>\n",
       "      <td>Divorced/Separated</td>\n",
       "      <td>False</td>\n",
       "      <td>Homeowner free and clear</td>\n",
       "      <td>1.0</td>\n",
       "      <td>61</td>\n",
       "      <td>Wyoming</td>\n",
       "      <td>131</td>\n",
       "      <td>50.0</td>\n",
       "      <td>6</td>\n",
       "      <td>F</td>\n",
       "    </tr>\n",
       "  </tbody>\n",
       "</table>\n",
       "<p>70771 rows × 13 columns</p>\n",
       "</div>"
      ]
     },
     "execution_count": 12,
     "metadata": {},
     "output_type": "execute_result"
    }
   ],
   "execution_count": 12
  },
  {
   "metadata": {
    "ExecuteTime": {
     "end_time": "2024-10-18T11:35:17.594350Z",
     "start_time": "2024-10-18T11:35:17.589536Z"
    }
   },
   "cell_type": "code",
   "source": "np.sort(data[\"age\"].unique())",
   "id": "c7db54c5fb458a3",
   "outputs": [
    {
     "data": {
      "text/plain": [
       "array([  0,  21,  22,  23,  24,  25,  26,  27,  28,  29,  30,  31,  32,\n",
       "        33,  34,  35,  36,  37,  38,  39,  40,  41,  42,  43,  44,  45,\n",
       "        46,  47,  48,  49,  50,  51,  52,  53,  54,  55,  56,  57,  58,\n",
       "        59,  60,  61,  62,  63,  64,  65,  66,  67,  68,  69,  70,  71,\n",
       "        72,  73,  74,  75,  76,  77,  78,  79,  80,  81,  82,  83,  84,\n",
       "        85,  86,  87,  88,  89,  90,  91,  92,  93,  94,  95,  96, 100,\n",
       "       110, 114, 120])"
      ]
     },
     "execution_count": 13,
     "metadata": {},
     "output_type": "execute_result"
    }
   ],
   "execution_count": 13
  },
  {
   "metadata": {
    "ExecuteTime": {
     "end_time": "2024-10-18T11:35:25.699546Z",
     "start_time": "2024-10-18T11:35:25.695836Z"
    }
   },
   "cell_type": "code",
   "source": "(data['age'] == 0).sum()",
   "id": "4617ac9d79ad9b35",
   "outputs": [
    {
     "data": {
      "text/plain": [
       "np.int64(76)"
      ]
     },
     "execution_count": 15,
     "metadata": {},
     "output_type": "execute_result"
    }
   ],
   "execution_count": 15
  },
  {
   "metadata": {},
   "cell_type": "code",
   "outputs": [],
   "execution_count": null,
   "source": "",
   "id": "f1ca1c18bacccc8"
  },
  {
   "metadata": {
    "ExecuteTime": {
     "end_time": "2024-10-18T11:35:26.948279Z",
     "start_time": "2024-10-18T11:35:26.912556Z"
    }
   },
   "cell_type": "code",
   "source": [
    "data_encoded = pd.get_dummies(data, drop_first=True)\n",
    "data_encoded.head()"
   ],
   "id": "517fff085bcb7bf1",
   "outputs": [
    {
     "data": {
      "text/plain": [
       "   is_employed   income  health_ins  num_vehicles  age  code_column  \\\n",
       "0         True  22000.0        True           0.0   24         1047   \n",
       "1        False  23200.0        True           0.0   82         1047   \n",
       "2         True  21000.0        True           2.0   31         1047   \n",
       "3        False  37770.0        True           1.0   93         1047   \n",
       "4         True  39000.0        True           2.0   67         1047   \n",
       "\n",
       "   gas_usage  rooms  sex_Male  marital_status_Married  ...  \\\n",
       "0      210.0      3      True                   False  ...   \n",
       "1        3.0      6     False                   False  ...   \n",
       "2       40.0      3     False                   False  ...   \n",
       "3      120.0      2     False                   False  ...   \n",
       "4        3.0      2      True                   False  ...   \n",
       "\n",
       "   state_of_res_Tennessee  state_of_res_Texas  state_of_res_Utah  \\\n",
       "0                   False               False              False   \n",
       "1                   False               False              False   \n",
       "2                   False               False              False   \n",
       "3                   False               False              False   \n",
       "4                   False               False              False   \n",
       "\n",
       "   state_of_res_Vermont  state_of_res_Virginia  state_of_res_Washington  \\\n",
       "0                 False                  False                    False   \n",
       "1                 False                  False                    False   \n",
       "2                 False                  False                    False   \n",
       "3                 False                  False                    False   \n",
       "4                 False                  False                    False   \n",
       "\n",
       "   state_of_res_West Virginia  state_of_res_Wisconsin  state_of_res_Wyoming  \\\n",
       "0                       False                   False                 False   \n",
       "1                       False                   False                 False   \n",
       "2                       False                   False                 False   \n",
       "3                       False                   False                 False   \n",
       "4                       False                   False                 False   \n",
       "\n",
       "   recent_move_b_T  \n",
       "0            False  \n",
       "1             True  \n",
       "2            False  \n",
       "3            False  \n",
       "4            False  \n",
       "\n",
       "[5 rows x 66 columns]"
      ],
      "text/html": [
       "<div>\n",
       "<style scoped>\n",
       "    .dataframe tbody tr th:only-of-type {\n",
       "        vertical-align: middle;\n",
       "    }\n",
       "\n",
       "    .dataframe tbody tr th {\n",
       "        vertical-align: top;\n",
       "    }\n",
       "\n",
       "    .dataframe thead th {\n",
       "        text-align: right;\n",
       "    }\n",
       "</style>\n",
       "<table border=\"1\" class=\"dataframe\">\n",
       "  <thead>\n",
       "    <tr style=\"text-align: right;\">\n",
       "      <th></th>\n",
       "      <th>is_employed</th>\n",
       "      <th>income</th>\n",
       "      <th>health_ins</th>\n",
       "      <th>num_vehicles</th>\n",
       "      <th>age</th>\n",
       "      <th>code_column</th>\n",
       "      <th>gas_usage</th>\n",
       "      <th>rooms</th>\n",
       "      <th>sex_Male</th>\n",
       "      <th>marital_status_Married</th>\n",
       "      <th>...</th>\n",
       "      <th>state_of_res_Tennessee</th>\n",
       "      <th>state_of_res_Texas</th>\n",
       "      <th>state_of_res_Utah</th>\n",
       "      <th>state_of_res_Vermont</th>\n",
       "      <th>state_of_res_Virginia</th>\n",
       "      <th>state_of_res_Washington</th>\n",
       "      <th>state_of_res_West Virginia</th>\n",
       "      <th>state_of_res_Wisconsin</th>\n",
       "      <th>state_of_res_Wyoming</th>\n",
       "      <th>recent_move_b_T</th>\n",
       "    </tr>\n",
       "  </thead>\n",
       "  <tbody>\n",
       "    <tr>\n",
       "      <th>0</th>\n",
       "      <td>True</td>\n",
       "      <td>22000.0</td>\n",
       "      <td>True</td>\n",
       "      <td>0.0</td>\n",
       "      <td>24</td>\n",
       "      <td>1047</td>\n",
       "      <td>210.0</td>\n",
       "      <td>3</td>\n",
       "      <td>True</td>\n",
       "      <td>False</td>\n",
       "      <td>...</td>\n",
       "      <td>False</td>\n",
       "      <td>False</td>\n",
       "      <td>False</td>\n",
       "      <td>False</td>\n",
       "      <td>False</td>\n",
       "      <td>False</td>\n",
       "      <td>False</td>\n",
       "      <td>False</td>\n",
       "      <td>False</td>\n",
       "      <td>False</td>\n",
       "    </tr>\n",
       "    <tr>\n",
       "      <th>1</th>\n",
       "      <td>False</td>\n",
       "      <td>23200.0</td>\n",
       "      <td>True</td>\n",
       "      <td>0.0</td>\n",
       "      <td>82</td>\n",
       "      <td>1047</td>\n",
       "      <td>3.0</td>\n",
       "      <td>6</td>\n",
       "      <td>False</td>\n",
       "      <td>False</td>\n",
       "      <td>...</td>\n",
       "      <td>False</td>\n",
       "      <td>False</td>\n",
       "      <td>False</td>\n",
       "      <td>False</td>\n",
       "      <td>False</td>\n",
       "      <td>False</td>\n",
       "      <td>False</td>\n",
       "      <td>False</td>\n",
       "      <td>False</td>\n",
       "      <td>True</td>\n",
       "    </tr>\n",
       "    <tr>\n",
       "      <th>2</th>\n",
       "      <td>True</td>\n",
       "      <td>21000.0</td>\n",
       "      <td>True</td>\n",
       "      <td>2.0</td>\n",
       "      <td>31</td>\n",
       "      <td>1047</td>\n",
       "      <td>40.0</td>\n",
       "      <td>3</td>\n",
       "      <td>False</td>\n",
       "      <td>False</td>\n",
       "      <td>...</td>\n",
       "      <td>False</td>\n",
       "      <td>False</td>\n",
       "      <td>False</td>\n",
       "      <td>False</td>\n",
       "      <td>False</td>\n",
       "      <td>False</td>\n",
       "      <td>False</td>\n",
       "      <td>False</td>\n",
       "      <td>False</td>\n",
       "      <td>False</td>\n",
       "    </tr>\n",
       "    <tr>\n",
       "      <th>3</th>\n",
       "      <td>False</td>\n",
       "      <td>37770.0</td>\n",
       "      <td>True</td>\n",
       "      <td>1.0</td>\n",
       "      <td>93</td>\n",
       "      <td>1047</td>\n",
       "      <td>120.0</td>\n",
       "      <td>2</td>\n",
       "      <td>False</td>\n",
       "      <td>False</td>\n",
       "      <td>...</td>\n",
       "      <td>False</td>\n",
       "      <td>False</td>\n",
       "      <td>False</td>\n",
       "      <td>False</td>\n",
       "      <td>False</td>\n",
       "      <td>False</td>\n",
       "      <td>False</td>\n",
       "      <td>False</td>\n",
       "      <td>False</td>\n",
       "      <td>False</td>\n",
       "    </tr>\n",
       "    <tr>\n",
       "      <th>4</th>\n",
       "      <td>True</td>\n",
       "      <td>39000.0</td>\n",
       "      <td>True</td>\n",
       "      <td>2.0</td>\n",
       "      <td>67</td>\n",
       "      <td>1047</td>\n",
       "      <td>3.0</td>\n",
       "      <td>2</td>\n",
       "      <td>True</td>\n",
       "      <td>False</td>\n",
       "      <td>...</td>\n",
       "      <td>False</td>\n",
       "      <td>False</td>\n",
       "      <td>False</td>\n",
       "      <td>False</td>\n",
       "      <td>False</td>\n",
       "      <td>False</td>\n",
       "      <td>False</td>\n",
       "      <td>False</td>\n",
       "      <td>False</td>\n",
       "      <td>False</td>\n",
       "    </tr>\n",
       "  </tbody>\n",
       "</table>\n",
       "<p>5 rows × 66 columns</p>\n",
       "</div>"
      ]
     },
     "execution_count": 16,
     "metadata": {},
     "output_type": "execute_result"
    }
   ],
   "execution_count": 16
  },
  {
   "metadata": {},
   "cell_type": "code",
   "outputs": [],
   "execution_count": null,
   "source": [
    "from scipy.stats import zscore\n",
    "\n"
   ],
   "id": "5f8da4cfbae49100"
  },
  {
   "metadata": {},
   "cell_type": "markdown",
   "source": "",
   "id": "abaccde28443d11a"
  },
  {
   "metadata": {},
   "cell_type": "markdown",
   "source": "",
   "id": "676d872d8e8c450e"
  },
  {
   "metadata": {
    "ExecuteTime": {
     "end_time": "2024-10-18T11:35:40.007983Z",
     "start_time": "2024-10-18T11:35:39.346451Z"
    }
   },
   "cell_type": "code",
   "source": [
    "from sklearn.impute import KNNImputer\n",
    "\n",
    "imputer = KNNImputer(n_neighbors=5)\n",
    "\n",
    "imputed_data = imputer.fit_transform(data_encoded)\n",
    "\n",
    "# Step 5: Replace the original 'age' column with the imputed values\n",
    "data['age'] = imputed_data[:, 4]"
   ],
   "id": "c8f3cf12573d325c",
   "outputs": [],
   "execution_count": 17
  },
  {
   "metadata": {
    "ExecuteTime": {
     "end_time": "2024-10-18T11:36:10.969734Z",
     "start_time": "2024-10-18T11:36:10.966743Z"
    }
   },
   "cell_type": "code",
   "source": "imputed_data",
   "id": "b985ba028277feb9",
   "outputs": [
    {
     "data": {
      "text/plain": [
       "array([[1.00e+00, 2.20e+04, 1.00e+00, ..., 0.00e+00, 0.00e+00, 0.00e+00],\n",
       "       [0.00e+00, 2.32e+04, 1.00e+00, ..., 0.00e+00, 0.00e+00, 1.00e+00],\n",
       "       [1.00e+00, 2.10e+04, 1.00e+00, ..., 0.00e+00, 0.00e+00, 0.00e+00],\n",
       "       ...,\n",
       "       [0.00e+00, 2.08e+04, 1.00e+00, ..., 0.00e+00, 1.00e+00, 0.00e+00],\n",
       "       [1.00e+00, 7.50e+04, 1.00e+00, ..., 0.00e+00, 1.00e+00, 0.00e+00],\n",
       "       [1.00e+00, 2.22e+04, 0.00e+00, ..., 0.00e+00, 1.00e+00, 0.00e+00]])"
      ]
     },
     "execution_count": 21,
     "metadata": {},
     "output_type": "execute_result"
    }
   ],
   "execution_count": 21
  },
  {
   "metadata": {
    "ExecuteTime": {
     "end_time": "2024-10-18T11:35:41.990685Z",
     "start_time": "2024-10-18T11:35:41.985582Z"
    }
   },
   "cell_type": "code",
   "source": "data['age'].unique()",
   "id": "d6957d3a7360c389",
   "outputs": [
    {
     "data": {
      "text/plain": [
       "array([ 24.,  82.,  31.,  93.,  67.,  76.,  26.,  73.,  27.,  54.,  61.,\n",
       "        64.,  55.,  65.,  33.,  47.,  68.,  46.,  58.,  43.,  41.,  62.,\n",
       "        21.,  78.,  32.,  59.,  29.,  70.,  30.,  28.,  86.,  35.,  34.,\n",
       "        40.,  72.,  60.,  25.,  79.,  22.,  42.,  44.,  81.,  50.,  45.,\n",
       "        63.,  57.,  39.,  71.,  38.,  49.,  69.,  37.,  66.,  53.,  36.,\n",
       "        23.,  75.,  88.,  51.,  85.,  52.,  83.,  77.,  56.,  48., 100.,\n",
       "        74.,  89.,  80.,  84.,   0.,  87., 120.,  91., 110., 114.,  94.,\n",
       "        90.,  96.,  92.,  95.])"
      ]
     },
     "execution_count": 18,
     "metadata": {},
     "output_type": "execute_result"
    }
   ],
   "execution_count": 18
  },
  {
   "metadata": {
    "ExecuteTime": {
     "end_time": "2024-10-18T11:35:58.514658Z",
     "start_time": "2024-10-18T11:35:58.511598Z"
    }
   },
   "cell_type": "code",
   "source": "(data['age'] == 0).sum()",
   "id": "921182dc6cd9cf59",
   "outputs": [
    {
     "data": {
      "text/plain": [
       "np.int64(76)"
      ]
     },
     "execution_count": 20,
     "metadata": {},
     "output_type": "execute_result"
    }
   ],
   "execution_count": 20
  },
  {
   "metadata": {},
   "cell_type": "code",
   "outputs": [],
   "execution_count": null,
   "source": "",
   "id": "830ee32889cd7259"
  }
 ],
 "metadata": {
  "kernelspec": {
   "display_name": "Python 3",
   "language": "python",
   "name": "python3"
  },
  "language_info": {
   "codemirror_mode": {
    "name": "ipython",
    "version": 2
   },
   "file_extension": ".py",
   "mimetype": "text/x-python",
   "name": "python",
   "nbconvert_exporter": "python",
   "pygments_lexer": "ipython2",
   "version": "2.7.6"
  }
 },
 "nbformat": 4,
 "nbformat_minor": 5
}
